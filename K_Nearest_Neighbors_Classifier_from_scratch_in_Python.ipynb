{
  "nbformat": 4,
  "nbformat_minor": 0,
  "metadata": {
    "colab": {
      "provenance": [],
      "authorship_tag": "ABX9TyN82Q96kDWV/uUek5h5eVCm",
      "include_colab_link": true
    },
    "kernelspec": {
      "name": "python3",
      "display_name": "Python 3"
    },
    "language_info": {
      "name": "python"
    }
  },
  "cells": [
    {
      "cell_type": "markdown",
      "metadata": {
        "id": "view-in-github",
        "colab_type": "text"
      },
      "source": [
        "<a href=\"https://colab.research.google.com/github/GENTLEW1ND/Python/blob/main/K_Nearest_Neighbors_Classifier_from_scratch_in_Python.ipynb\" target=\"_parent\"><img src=\"https://colab.research.google.com/assets/colab-badge.svg\" alt=\"Open In Colab\"/></a>"
      ]
    },
    {
      "cell_type": "markdown",
      "source": [
        "Importing the Dependencies"
      ],
      "metadata": {
        "id": "4Q1t4rEckfVR"
      }
    },
    {
      "cell_type": "code",
      "execution_count": null,
      "metadata": {
        "id": "9DK7VvoFkbnD"
      },
      "outputs": [],
      "source": [
        "import numpy as np\n",
        "import statistics"
      ]
    },
    {
      "cell_type": "markdown",
      "source": [
        "**K-Nearest Neighbors Classifier**"
      ],
      "metadata": {
        "id": "NN8Yr7DVlmfG"
      }
    },
    {
      "cell_type": "code",
      "source": [
        "class KNN_Classifier():\n",
        "\n",
        "  # initiatng the parameters\n",
        "  def __init__(self, distance_metric):\n",
        "\n",
        "    self.distance_metric = distance_metric\n",
        "\n",
        "  # getting the distance metric\n",
        "  def get_distance_metric(self, training_data_point, test_data_point):\n",
        "\n",
        "    if(self.distance_metric)\n",
        "\n",
        "  def nearest_neighbors(self):\n",
        "\n",
        "  def predict(self):"
      ],
      "metadata": {
        "id": "hEjiykk1llo6"
      },
      "execution_count": null,
      "outputs": []
    }
  ]
}