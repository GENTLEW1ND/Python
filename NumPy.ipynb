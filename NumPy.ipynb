{
  "nbformat": 4,
  "nbformat_minor": 0,
  "metadata": {
    "colab": {
      "provenance": [],
      "authorship_tag": "ABX9TyMnGDORLXeiv7Jc5Mu9lq/L",
      "include_colab_link": true
    },
    "kernelspec": {
      "name": "python3",
      "display_name": "Python 3"
    },
    "language_info": {
      "name": "python"
    }
  },
  "cells": [
    {
      "cell_type": "markdown",
      "metadata": {
        "id": "view-in-github",
        "colab_type": "text"
      },
      "source": [
        "<a href=\"https://colab.research.google.com/github/GENTLEW1ND/Python/blob/main/NumPy.ipynb\" target=\"_parent\"><img src=\"https://colab.research.google.com/assets/colab-badge.svg\" alt=\"Open In Colab\"/></a>"
      ]
    },
    {
      "cell_type": "markdown",
      "source": [
        "NumPy - Nummerical Python"
      ],
      "metadata": {
        "id": "AoVuZWyYogD8"
      }
    },
    {
      "cell_type": "markdown",
      "source": [
        "Advantages of Numpy Arrays\n",
        "  1. Allows several Mathematical Operations\n",
        "  2. Faster operation"
      ],
      "metadata": {
        "id": "qefWdrG5op0T"
      }
    },
    {
      "cell_type": "code",
      "execution_count": 1,
      "metadata": {
        "id": "0DtfvkV-oDmV"
      },
      "outputs": [],
      "source": [
        "import numpy as np"
      ]
    },
    {
      "cell_type": "markdown",
      "source": [
        "List vs Numpy - Time taken"
      ],
      "metadata": {
        "id": "epiLP7lfp4yA"
      }
    },
    {
      "cell_type": "code",
      "source": [
        "from time import process_time"
      ],
      "metadata": {
        "id": "tyCt1PoGpgZT"
      },
      "execution_count": null,
      "outputs": []
    },
    {
      "cell_type": "markdown",
      "source": [
        "Time taken by a list"
      ],
      "metadata": {
        "id": "JJop1a7pqCAk"
      }
    },
    {
      "cell_type": "code",
      "source": [
        "python_list = [i for i in range(10000)]\n",
        "\n",
        "start_time = process_time()\n",
        "\n",
        "python_list = [i+5 for i in python_list]\n",
        "\n",
        "end_time = process_time()\n",
        "\n",
        "print(end_time - start_time)"
      ],
      "metadata": {
        "id": "TQ8NgXaZqEUQ"
      },
      "execution_count": null,
      "outputs": []
    }
  ]
}