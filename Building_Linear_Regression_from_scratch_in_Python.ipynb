{
  "nbformat": 4,
  "nbformat_minor": 0,
  "metadata": {
    "colab": {
      "provenance": [],
      "authorship_tag": "ABX9TyOgcZwa250Je4sFGD6LUQ0S",
      "include_colab_link": true
    },
    "kernelspec": {
      "name": "python3",
      "display_name": "Python 3"
    },
    "language_info": {
      "name": "python"
    }
  },
  "cells": [
    {
      "cell_type": "markdown",
      "metadata": {
        "id": "view-in-github",
        "colab_type": "text"
      },
      "source": [
        "<a href=\"https://colab.research.google.com/github/GENTLEW1ND/Python/blob/main/Building_Linear_Regression_from_scratch_in_Python.ipynb\" target=\"_parent\"><img src=\"https://colab.research.google.com/assets/colab-badge.svg\" alt=\"Open In Colab\"/></a>"
      ]
    },
    {
      "cell_type": "markdown",
      "source": [
        "Linear Regression\n",
        "\n",
        "**Y=wY+b**\n",
        "\n",
        "Y-> Dependent Variable\n",
        "\n",
        "X-> Independent Variable\n",
        "\n",
        "w-> weight\n",
        "\n",
        "b-> bias\n",
        "\n",
        "\n",
        "\n",
        "\n",
        "\n",
        "**Gradient Descent:**\n",
        "\n",
        "Gradient Descent is an optimization algorithm used for minimizing the loss function in various machine learning algorithms. It is used for updating the parameters of the leaning model.\n",
        "\n",
        "w = w-a*dw\n",
        "\n",
        "b=b-a*db\n",
        "\n",
        "\n",
        "\n",
        "\n",
        "\n",
        "**Leaning Rate:**\n",
        "\n",
        "Learning rate is a tuning parameter in an optimizationo algorithm that determines the step size at each iteration while moving toward a minimun of a loss function."
      ],
      "metadata": {
        "id": "E-4qirE5MjIa"
      }
    },
    {
      "cell_type": "code",
      "execution_count": null,
      "metadata": {
        "id": "pMwXTmxZMhQ8"
      },
      "outputs": [],
      "source": [
        "# Importing the numpy library\n",
        "import numpy as np"
      ]
    },
    {
      "cell_type": "markdown",
      "source": [
        "**Linear Regression**"
      ],
      "metadata": {
        "id": "HPCljKDOQ2Xt"
      }
    },
    {
      "cell_type": "code",
      "source": [
        "class Linear_Regression():\n",
        "\n",
        "  # initiating the parameters ( learning_rate & no. of iteration )\n",
        "  def __init__(self,learning_rate,no_of_iteration):\n",
        "\n",
        "    self.learning_rate = learning_rate\n",
        "    self.no_of_iteration = no_of_iteration\n",
        "\n",
        "\n",
        "\n",
        "\n",
        "  def fit(self,X,Y):\n",
        "    # number of training examples and number of features\n",
        "    self.m,self.n = X.shape  # it is the number of rows (m) and columns (n)\n",
        "\n",
        "    # initiating the weight and bias\n",
        "    self.w = np.zeros(self.n)\n",
        "    self.b = 0\n",
        "    self.X = X\n",
        "    self.Y = Y\n",
        "\n",
        "    # implementing Gradient Descent\n",
        "    for i in range(self.no_of_iteration):\n",
        "      self.update_weights()\n",
        "\n",
        "\n",
        "\n",
        "\n",
        "  def update_weights(self):\n",
        "\n",
        "    Y_prediction = self.predict(self.X)\n",
        "\n",
        "    # calculating the gradients\n",
        "    dw = - (2 * np.dot(self.X.T, (self.Y - Y_prediction))) / self.m\n",
        "    db = - (2 * np.sum(self.Y - Y_prediction)) / self.m\n",
        "\n",
        "    # updating the weights\n",
        "    self.w = self.w - self.learning_rate * dw\n",
        "    self.b = self.b - self.learning_rate * db\n",
        "\n",
        "\n",
        "\n",
        "\n",
        "  def predict(self,X):\n",
        "\n",
        "    return X.dot(self.w) + self.b  # as we have initiate 'w' as numpy array thats the reason why we are using dot product.\n",
        "\n",
        "\n"
      ],
      "metadata": {
        "id": "c9o5GHKTQ0yN"
      },
      "execution_count": 2,
      "outputs": []
    },
    {
      "cell_type": "code",
      "source": [],
      "metadata": {
        "id": "eslbmlPOnJQR"
      },
      "execution_count": null,
      "outputs": []
    }
  ]
}