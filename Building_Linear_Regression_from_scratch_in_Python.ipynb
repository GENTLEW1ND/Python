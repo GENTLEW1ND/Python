{
  "nbformat": 4,
  "nbformat_minor": 0,
  "metadata": {
    "colab": {
      "provenance": [],
      "authorship_tag": "ABX9TyNxl0UujvP7JCAUHicNS+r/",
      "include_colab_link": true
    },
    "kernelspec": {
      "name": "python3",
      "display_name": "Python 3"
    },
    "language_info": {
      "name": "python"
    }
  },
  "cells": [
    {
      "cell_type": "markdown",
      "metadata": {
        "id": "view-in-github",
        "colab_type": "text"
      },
      "source": [
        "<a href=\"https://colab.research.google.com/github/GENTLEW1ND/Python/blob/main/Building_Linear_Regression_from_scratch_in_Python.ipynb\" target=\"_parent\"><img src=\"https://colab.research.google.com/assets/colab-badge.svg\" alt=\"Open In Colab\"/></a>"
      ]
    },
    {
      "cell_type": "markdown",
      "source": [
        "Linear Regression\n",
        "\n",
        "**Y=wY+b**\n",
        "\n",
        "Y-> Dependent Variable\n",
        "\n",
        "X-> Independent Variable\n",
        "\n",
        "w-> weight\n",
        "\n",
        "b-> bias\n",
        "\n",
        "\n",
        "\n",
        "\n",
        "\n",
        "**Gradient Descent:**\n",
        "\n",
        "Gradient Descent is an optimization algorithm used for minimizing the loss function in various machine learning algorithms. It is used for updating the parameters of the leaning model.\n",
        "\n",
        "w = w-a*dw\n",
        "\n",
        "b=b-a*db\n",
        "\n",
        "\n",
        "\n",
        "\n",
        "\n",
        "**Leaning Rate:**\n",
        "\n",
        "Learning rate is a tuning parameter in an optimizationo algorithm that determines the step size at each iteration while moving toward a minimun of a loss function."
      ],
      "metadata": {
        "id": "E-4qirE5MjIa"
      }
    },
    {
      "cell_type": "code",
      "execution_count": 1,
      "metadata": {
        "id": "pMwXTmxZMhQ8"
      },
      "outputs": [],
      "source": [
        "# Importing the numpy library\n",
        "import numpy as np"
      ]
    },
    {
      "cell_type": "markdown",
      "source": [
        "**Linear Regression**"
      ],
      "metadata": {
        "id": "HPCljKDOQ2Xt"
      }
    },
    {
      "cell_type": "code",
      "source": [
        "class Linear_Regression():\n",
        "\n",
        "  def __init__():\n",
        "\n",
        "  def fit():\n",
        "\n",
        "  def update_weights():\n",
        "\n",
        "  def predict():\n",
        "\n",
        ""
      ],
      "metadata": {
        "id": "c9o5GHKTQ0yN"
      },
      "execution_count": null,
      "outputs": []
    }
  ]
}