{
 "cells": [
  {
   "cell_type": "code",
   "execution_count": 1,
   "id": "a70a2060",
   "metadata": {
    "_cell_guid": "b1076dfc-b9ad-4769-8c92-a6c4dae69d19",
    "_uuid": "8f2839f25d086af736a60e9eeb907d3b93b6e0e5",
    "execution": {
     "iopub.execute_input": "2025-07-01T05:42:00.262324Z",
     "iopub.status.busy": "2025-07-01T05:42:00.261961Z",
     "iopub.status.idle": "2025-07-01T05:42:02.197653Z",
     "shell.execute_reply": "2025-07-01T05:42:02.196574Z"
    },
    "papermill": {
     "duration": 1.943547,
     "end_time": "2025-07-01T05:42:02.199422",
     "exception": false,
     "start_time": "2025-07-01T05:42:00.255875",
     "status": "completed"
    },
    "tags": []
   },
   "outputs": [
    {
     "name": "stdout",
     "output_type": "stream",
     "text": [
      "/kaggle/input/car-dataset/all_cars_datset_final.csv\n"
     ]
    }
   ],
   "source": [
    "# This Python 3 environment comes with many helpful analytics libraries installed\n",
    "# It is defined by the kaggle/python Docker image: https://github.com/kaggle/docker-python\n",
    "# For example, here's several helpful packages to load\n",
    "\n",
    "import numpy as np # linear algebra\n",
    "import pandas as pd # data processing, CSV file I/O (e.g. pd.read_csv)\n",
    "\n",
    "# Input data files are available in the read-only \"../input/\" directory\n",
    "# For example, running this (by clicking run or pressing Shift+Enter) will list all files under the input directory\n",
    "\n",
    "import os\n",
    "for dirname, _, filenames in os.walk('/kaggle/input'):\n",
    "    for filename in filenames:\n",
    "        print(os.path.join(dirname, filename))\n",
    "\n",
    "# You can write up to 20GB to the current directory (/kaggle/working/) that gets preserved as output when you create a version using \"Save & Run All\" \n",
    "# You can also write temporary files to /kaggle/temp/, but they won't be saved outside of the current session"
   ]
  },
  {
   "cell_type": "code",
   "execution_count": 2,
   "id": "ba8498a4",
   "metadata": {
    "execution": {
     "iopub.execute_input": "2025-07-01T05:42:02.208939Z",
     "iopub.status.busy": "2025-07-01T05:42:02.208519Z",
     "iopub.status.idle": "2025-07-01T05:42:04.233759Z",
     "shell.execute_reply": "2025-07-01T05:42:04.232848Z"
    },
    "papermill": {
     "duration": 2.031989,
     "end_time": "2025-07-01T05:42:04.235692",
     "exception": false,
     "start_time": "2025-07-01T05:42:02.203703",
     "status": "completed"
    },
    "tags": []
   },
   "outputs": [],
   "source": [
    "import numpy as np\n",
    "import pandas as pd\n",
    "import matplotlib.pyplot as plt\n",
    "import seaborn as sns"
   ]
  },
  {
   "cell_type": "code",
   "execution_count": 3,
   "id": "a55c5851",
   "metadata": {
    "execution": {
     "iopub.execute_input": "2025-07-01T05:42:04.245086Z",
     "iopub.status.busy": "2025-07-01T05:42:04.244570Z",
     "iopub.status.idle": "2025-07-01T05:42:04.267231Z",
     "shell.execute_reply": "2025-07-01T05:42:04.266471Z"
    },
    "papermill": {
     "duration": 0.029121,
     "end_time": "2025-07-01T05:42:04.268838",
     "exception": false,
     "start_time": "2025-07-01T05:42:04.239717",
     "status": "completed"
    },
    "tags": []
   },
   "outputs": [],
   "source": [
    "data = pd.read_csv('/kaggle/input/car-dataset/all_cars_datset_final.csv')"
   ]
  },
  {
   "cell_type": "code",
   "execution_count": 4,
   "id": "62931326",
   "metadata": {
    "execution": {
     "iopub.execute_input": "2025-07-01T05:42:04.277613Z",
     "iopub.status.busy": "2025-07-01T05:42:04.277300Z",
     "iopub.status.idle": "2025-07-01T05:42:04.303535Z",
     "shell.execute_reply": "2025-07-01T05:42:04.302524Z"
    },
    "papermill": {
     "duration": 0.032486,
     "end_time": "2025-07-01T05:42:04.305177",
     "exception": false,
     "start_time": "2025-07-01T05:42:04.272691",
     "status": "completed"
    },
    "tags": []
   },
   "outputs": [
    {
     "data": {
      "text/html": [
       "<div>\n",
       "<style scoped>\n",
       "    .dataframe tbody tr th:only-of-type {\n",
       "        vertical-align: middle;\n",
       "    }\n",
       "\n",
       "    .dataframe tbody tr th {\n",
       "        vertical-align: top;\n",
       "    }\n",
       "\n",
       "    .dataframe thead th {\n",
       "        text-align: right;\n",
       "    }\n",
       "</style>\n",
       "<table border=\"1\" class=\"dataframe\">\n",
       "  <thead>\n",
       "    <tr style=\"text-align: right;\">\n",
       "      <th></th>\n",
       "      <th>Brand</th>\n",
       "      <th>Car Name</th>\n",
       "      <th>Price</th>\n",
       "      <th>Rating</th>\n",
       "      <th>Safety</th>\n",
       "      <th>Mileage</th>\n",
       "      <th>Power (BHP)</th>\n",
       "      <th>FY2024(sales)</th>\n",
       "    </tr>\n",
       "  </thead>\n",
       "  <tbody>\n",
       "    <tr>\n",
       "      <th>0</th>\n",
       "      <td>Maruti Suzuki</td>\n",
       "      <td>Maruti Brezza</td>\n",
       "      <td>Rs. 8.69 Lakh</td>\n",
       "      <td>4.5/5</td>\n",
       "      <td>4 Star Safety</td>\n",
       "      <td>17-25 kmpl</td>\n",
       "      <td>87-102 bhp</td>\n",
       "      <td>1,69,897</td>\n",
       "    </tr>\n",
       "    <tr>\n",
       "      <th>1</th>\n",
       "      <td>Maruti Suzuki</td>\n",
       "      <td>Maruti Fronx</td>\n",
       "      <td>Rs. 7.54 Lakh</td>\n",
       "      <td>4.6/5</td>\n",
       "      <td>3 Star Safety</td>\n",
       "      <td>20-28 kmpl</td>\n",
       "      <td>76-99 bhp</td>\n",
       "      <td>1,34,735</td>\n",
       "    </tr>\n",
       "    <tr>\n",
       "      <th>2</th>\n",
       "      <td>Maruti Suzuki</td>\n",
       "      <td>Maruti Swift</td>\n",
       "      <td>Rs. 6.49 Lakh</td>\n",
       "      <td>4.6/5</td>\n",
       "      <td>2 Star Safety</td>\n",
       "      <td>24-32 kmpl</td>\n",
       "      <td>69-80 bhp</td>\n",
       "      <td>1,95,321</td>\n",
       "    </tr>\n",
       "    <tr>\n",
       "      <th>3</th>\n",
       "      <td>Maruti Suzuki</td>\n",
       "      <td>Maruti Dzire</td>\n",
       "      <td>Rs. 6.84 Lakh</td>\n",
       "      <td>4.7/5</td>\n",
       "      <td>5 Star Safety</td>\n",
       "      <td>24-33 kmpl</td>\n",
       "      <td>69-80 bhp</td>\n",
       "      <td>1,64,517</td>\n",
       "    </tr>\n",
       "    <tr>\n",
       "      <th>4</th>\n",
       "      <td>Maruti Suzuki</td>\n",
       "      <td>Maruti Baleno</td>\n",
       "      <td>Rs. 6.70 Lakh</td>\n",
       "      <td>4.5/5</td>\n",
       "      <td>4 Star Safety</td>\n",
       "      <td>22-30 kmpl</td>\n",
       "      <td>76-88 bhp</td>\n",
       "      <td>1,95,607</td>\n",
       "    </tr>\n",
       "  </tbody>\n",
       "</table>\n",
       "</div>"
      ],
      "text/plain": [
       "           Brand       Car Name          Price Rating         Safety  \\\n",
       "0  Maruti Suzuki  Maruti Brezza  Rs. 8.69 Lakh  4.5/5  4 Star Safety   \n",
       "1  Maruti Suzuki   Maruti Fronx  Rs. 7.54 Lakh  4.6/5  3 Star Safety   \n",
       "2  Maruti Suzuki   Maruti Swift  Rs. 6.49 Lakh  4.6/5  2 Star Safety   \n",
       "3  Maruti Suzuki   Maruti Dzire  Rs. 6.84 Lakh  4.7/5  5 Star Safety   \n",
       "4  Maruti Suzuki  Maruti Baleno  Rs. 6.70 Lakh  4.5/5  4 Star Safety   \n",
       "\n",
       "      Mileage Power (BHP) FY2024(sales)  \n",
       "0  17-25 kmpl  87-102 bhp      1,69,897  \n",
       "1  20-28 kmpl   76-99 bhp      1,34,735  \n",
       "2  24-32 kmpl   69-80 bhp      1,95,321  \n",
       "3  24-33 kmpl   69-80 bhp      1,64,517  \n",
       "4  22-30 kmpl   76-88 bhp      1,95,607  "
      ]
     },
     "execution_count": 4,
     "metadata": {},
     "output_type": "execute_result"
    }
   ],
   "source": [
    "data.head()"
   ]
  },
  {
   "cell_type": "code",
   "execution_count": 5,
   "id": "66a3836b",
   "metadata": {
    "execution": {
     "iopub.execute_input": "2025-07-01T05:42:04.314110Z",
     "iopub.status.busy": "2025-07-01T05:42:04.313780Z",
     "iopub.status.idle": "2025-07-01T05:42:04.319250Z",
     "shell.execute_reply": "2025-07-01T05:42:04.318469Z"
    },
    "papermill": {
     "duration": 0.011383,
     "end_time": "2025-07-01T05:42:04.320578",
     "exception": false,
     "start_time": "2025-07-01T05:42:04.309195",
     "status": "completed"
    },
    "tags": []
   },
   "outputs": [
    {
     "data": {
      "text/plain": [
       "(248, 8)"
      ]
     },
     "execution_count": 5,
     "metadata": {},
     "output_type": "execute_result"
    }
   ],
   "source": [
    "data.shape"
   ]
  },
  {
   "cell_type": "code",
   "execution_count": 6,
   "id": "38f43d67",
   "metadata": {
    "execution": {
     "iopub.execute_input": "2025-07-01T05:42:04.329671Z",
     "iopub.status.busy": "2025-07-01T05:42:04.329349Z",
     "iopub.status.idle": "2025-07-01T05:42:04.355917Z",
     "shell.execute_reply": "2025-07-01T05:42:04.354886Z"
    },
    "papermill": {
     "duration": 0.032797,
     "end_time": "2025-07-01T05:42:04.357281",
     "exception": false,
     "start_time": "2025-07-01T05:42:04.324484",
     "status": "completed"
    },
    "tags": []
   },
   "outputs": [
    {
     "name": "stdout",
     "output_type": "stream",
     "text": [
      "<class 'pandas.core.frame.DataFrame'>\n",
      "RangeIndex: 248 entries, 0 to 247\n",
      "Data columns (total 8 columns):\n",
      " #   Column         Non-Null Count  Dtype \n",
      "---  ------         --------------  ----- \n",
      " 0   Brand          248 non-null    object\n",
      " 1   Car Name       248 non-null    object\n",
      " 2   Price          248 non-null    object\n",
      " 3   Rating         242 non-null    object\n",
      " 4   Safety         199 non-null    object\n",
      " 5   Mileage        129 non-null    object\n",
      " 6   Power (BHP)    209 non-null    object\n",
      " 7   FY2024(sales)  112 non-null    object\n",
      "dtypes: object(8)\n",
      "memory usage: 15.6+ KB\n"
     ]
    }
   ],
   "source": [
    "data.info()"
   ]
  },
  {
   "cell_type": "code",
   "execution_count": 7,
   "id": "abca8bd5",
   "metadata": {
    "execution": {
     "iopub.execute_input": "2025-07-01T05:42:04.366691Z",
     "iopub.status.busy": "2025-07-01T05:42:04.366394Z",
     "iopub.status.idle": "2025-07-01T05:42:05.031418Z",
     "shell.execute_reply": "2025-07-01T05:42:05.030428Z"
    },
    "papermill": {
     "duration": 0.672197,
     "end_time": "2025-07-01T05:42:05.033658",
     "exception": false,
     "start_time": "2025-07-01T05:42:04.361461",
     "status": "completed"
    },
    "tags": []
   },
   "outputs": [
    {
     "data": {
      "text/plain": [
       "<Axes: >"
      ]
     },
     "execution_count": 7,
     "metadata": {},
     "output_type": "execute_result"
    },
    {
     "data": {
      "image/png": "[encoded data removed]",
      "text/plain": [
       "<Figure size 2500x1000 with 2 Axes>"
      ]
     },
     "metadata": {},
     "output_type": "display_data"
    }
   ],
   "source": [
    "#Visualizing the missing values\n",
    "import missingno as msno\n",
    "msno.matrix(data)"
   ]
  },
  {
   "cell_type": "code",
   "execution_count": 8,
   "id": "d68704a8",
   "metadata": {
    "execution": {
     "iopub.execute_input": "2025-07-01T05:42:05.046338Z",
     "iopub.status.busy": "2025-07-01T05:42:05.045432Z",
     "iopub.status.idle": "2025-07-01T05:42:05.053649Z",
     "shell.execute_reply": "2025-07-01T05:42:05.052862Z"
    },
    "papermill": {
     "duration": 0.015875,
     "end_time": "2025-07-01T05:42:05.055097",
     "exception": false,
     "start_time": "2025-07-01T05:42:05.039222",
     "status": "completed"
    },
    "tags": []
   },
   "outputs": [
    {
     "data": {
      "text/plain": [
       "Brand             0.000000\n",
       "Car Name          0.000000\n",
       "Price             0.000000\n",
       "Rating            2.419355\n",
       "Safety           19.758065\n",
       "Mileage          47.983871\n",
       "Power (BHP)      15.725806\n",
       "FY2024(sales)    54.838710\n",
       "dtype: float64"
      ]
     },
     "execution_count": 8,
     "metadata": {},
     "output_type": "execute_result"
    }
   ],
   "source": [
    "data.isnull().mean()*100"
   ]
  },
  {
   "cell_type": "code",
   "execution_count": 9,
   "id": "49084298",
   "metadata": {
    "execution": {
     "iopub.execute_input": "2025-07-01T05:42:05.067983Z",
     "iopub.status.busy": "2025-07-01T05:42:05.067205Z",
     "iopub.status.idle": "2025-07-01T05:42:05.076415Z",
     "shell.execute_reply": "2025-07-01T05:42:05.075536Z"
    },
    "papermill": {
     "duration": 0.017118,
     "end_time": "2025-07-01T05:42:05.077872",
     "exception": false,
     "start_time": "2025-07-01T05:42:05.060754",
     "status": "completed"
    },
    "tags": []
   },
   "outputs": [],
   "source": [
    "#Converting the dtype from object to numeric\n",
    "def extractcol(col):\n",
    "       return pd.to_numeric(col.str.extract(r'(\\d+\\.\\d+|\\d+)')[0],errors='coerce')\n",
    "\n",
    "data['Price'] = extractcol(data['Price'])\n",
    "data['Safety'] = extractcol(data['Safety'])"
   ]
  },
  {
   "cell_type": "code",
   "execution_count": 10,
   "id": "6c7f225c",
   "metadata": {
    "execution": {
     "iopub.execute_input": "2025-07-01T05:42:05.090972Z",
     "iopub.status.busy": "2025-07-01T05:42:05.090105Z",
     "iopub.status.idle": "2025-07-01T05:42:05.095418Z",
     "shell.execute_reply": "2025-07-01T05:42:05.094455Z"
    },
    "papermill": {
     "duration": 0.013276,
     "end_time": "2025-07-01T05:42:05.096941",
     "exception": false,
     "start_time": "2025-07-01T05:42:05.083665",
     "status": "completed"
    },
    "tags": []
   },
   "outputs": [],
   "source": [
    "data['Price'] = data['Price'].astype(float)*100000"
   ]
  },
  {
   "cell_type": "code",
   "execution_count": 11,
   "id": "32472b83",
   "metadata": {
    "execution": {
     "iopub.execute_input": "2025-07-01T05:42:05.110108Z",
     "iopub.status.busy": "2025-07-01T05:42:05.109779Z",
     "iopub.status.idle": "2025-07-01T05:42:05.120491Z",
     "shell.execute_reply": "2025-07-01T05:42:05.119452Z"
    },
    "papermill": {
     "duration": 0.019063,
     "end_time": "2025-07-01T05:42:05.121990",
     "exception": false,
     "start_time": "2025-07-01T05:42:05.102927",
     "status": "completed"
    },
    "tags": []
   },
   "outputs": [
    {
     "name": "stdout",
     "output_type": "stream",
     "text": [
      "<class 'pandas.core.frame.DataFrame'>\n",
      "RangeIndex: 248 entries, 0 to 247\n",
      "Data columns (total 8 columns):\n",
      " #   Column         Non-Null Count  Dtype  \n",
      "---  ------         --------------  -----  \n",
      " 0   Brand          248 non-null    object \n",
      " 1   Car Name       248 non-null    object \n",
      " 2   Price          248 non-null    float64\n",
      " 3   Rating         242 non-null    object \n",
      " 4   Safety         199 non-null    float64\n",
      " 5   Mileage        129 non-null    object \n",
      " 6   Power (BHP)    209 non-null    object \n",
      " 7   FY2024(sales)  112 non-null    object \n",
      "dtypes: float64(2), object(6)\n",
      "memory usage: 15.6+ KB\n"
     ]
    }
   ],
   "source": [
    "data.info()"
   ]
  },
  {
   "cell_type": "code",
   "execution_count": 12,
   "id": "863a3185",
   "metadata": {
    "execution": {
     "iopub.execute_input": "2025-07-01T05:42:05.134804Z",
     "iopub.status.busy": "2025-07-01T05:42:05.133988Z",
     "iopub.status.idle": "2025-07-01T05:42:05.139621Z",
     "shell.execute_reply": "2025-07-01T05:42:05.138805Z"
    },
    "papermill": {
     "duration": 0.013194,
     "end_time": "2025-07-01T05:42:05.140903",
     "exception": false,
     "start_time": "2025-07-01T05:42:05.127709",
     "status": "completed"
    },
    "tags": []
   },
   "outputs": [],
   "source": [
    "data['Rating'] = extractcol(data['Rating'])"
   ]
  },
  {
   "cell_type": "code",
   "execution_count": 13,
   "id": "fad252ea",
   "metadata": {
    "execution": {
     "iopub.execute_input": "2025-07-01T05:42:05.154118Z",
     "iopub.status.busy": "2025-07-01T05:42:05.153464Z",
     "iopub.status.idle": "2025-07-01T05:42:05.159269Z",
     "shell.execute_reply": "2025-07-01T05:42:05.158509Z"
    },
    "papermill": {
     "duration": 0.013729,
     "end_time": "2025-07-01T05:42:05.160679",
     "exception": false,
     "start_time": "2025-07-01T05:42:05.146950",
     "status": "completed"
    },
    "tags": []
   },
   "outputs": [],
   "source": [
    "def extract_mileage(data):\n",
    "    if pd.isnull(data):\n",
    "        return None\n",
    "    mileage = [float(i) for i in data.replace('kmpl','').replace('kmph','').split('-')]\n",
    "    return sum(mileage) / len(mileage) if len(mileage)==2 else mileage[0] \n",
    "    \n",
    "data['Mileage'] = data['Mileage'].apply(extract_mileage)"
   ]
  },
  {
   "cell_type": "code",
   "execution_count": 14,
   "id": "de5ae624",
   "metadata": {
    "execution": {
     "iopub.execute_input": "2025-07-01T05:42:05.173304Z",
     "iopub.status.busy": "2025-07-01T05:42:05.172631Z",
     "iopub.status.idle": "2025-07-01T05:42:05.179124Z",
     "shell.execute_reply": "2025-07-01T05:42:05.178420Z"
    },
    "papermill": {
     "duration": 0.0142,
     "end_time": "2025-07-01T05:42:05.180407",
     "exception": false,
     "start_time": "2025-07-01T05:42:05.166207",
     "status": "completed"
    },
    "tags": []
   },
   "outputs": [
    {
     "data": {
      "text/plain": [
       "0    21.0\n",
       "1    24.0\n",
       "2    28.0\n",
       "3    28.5\n",
       "4    26.0\n",
       "Name: Mileage, dtype: float64"
      ]
     },
     "execution_count": 14,
     "metadata": {},
     "output_type": "execute_result"
    }
   ],
   "source": [
    "data['Mileage'].head()"
   ]
  },
  {
   "cell_type": "code",
   "execution_count": 15,
   "id": "0f12b657",
   "metadata": {
    "execution": {
     "iopub.execute_input": "2025-07-01T05:42:05.192746Z",
     "iopub.status.busy": "2025-07-01T05:42:05.192197Z",
     "iopub.status.idle": "2025-07-01T05:42:05.198657Z",
     "shell.execute_reply": "2025-07-01T05:42:05.197852Z"
    },
    "papermill": {
     "duration": 0.014381,
     "end_time": "2025-07-01T05:42:05.200239",
     "exception": false,
     "start_time": "2025-07-01T05:42:05.185858",
     "status": "completed"
    },
    "tags": []
   },
   "outputs": [],
   "source": [
    "def extract_power(data):\n",
    "    if pd.isnull(data):\n",
    "        return None\n",
    "    power = [float(i) for i in data.replace('bhp','').split('-')]\n",
    "    return sum(power) / len(power) if len(power) == 2 else power[0]\n",
    "\n",
    "data['Power (BHP)'] = data['Power (BHP)'].apply(extract_power)"
   ]
  },
  {
   "cell_type": "code",
   "execution_count": 16,
   "id": "6de346ad",
   "metadata": {
    "execution": {
     "iopub.execute_input": "2025-07-01T05:42:05.213766Z",
     "iopub.status.busy": "2025-07-01T05:42:05.212963Z",
     "iopub.status.idle": "2025-07-01T05:42:05.219718Z",
     "shell.execute_reply": "2025-07-01T05:42:05.218849Z"
    },
    "papermill": {
     "duration": 0.014606,
     "end_time": "2025-07-01T05:42:05.221148",
     "exception": false,
     "start_time": "2025-07-01T05:42:05.206542",
     "status": "completed"
    },
    "tags": []
   },
   "outputs": [
    {
     "data": {
      "text/plain": [
       "0    94.5\n",
       "1    87.5\n",
       "2    74.5\n",
       "3    74.5\n",
       "4    82.0\n",
       "Name: Power (BHP), dtype: float64"
      ]
     },
     "execution_count": 16,
     "metadata": {},
     "output_type": "execute_result"
    }
   ],
   "source": [
    "data['Power (BHP)'].head()"
   ]
  },
  {
   "cell_type": "code",
   "execution_count": 17,
   "id": "26c28707",
   "metadata": {
    "execution": {
     "iopub.execute_input": "2025-07-01T05:42:05.234225Z",
     "iopub.status.busy": "2025-07-01T05:42:05.233863Z",
     "iopub.status.idle": "2025-07-01T05:42:05.239510Z",
     "shell.execute_reply": "2025-07-01T05:42:05.238720Z"
    },
    "papermill": {
     "duration": 0.01411,
     "end_time": "2025-07-01T05:42:05.241101",
     "exception": false,
     "start_time": "2025-07-01T05:42:05.226991",
     "status": "completed"
    },
    "tags": []
   },
   "outputs": [],
   "source": [
    "def extract_fy(data):\n",
    "    if pd.isnull(data):\n",
    "        return None\n",
    "    fy = float(data.replace(',',''))\n",
    "    return fy\n",
    "\n",
    "data['FY2024(sales)'] = data['FY2024(sales)'].apply(extract_fy)"
   ]
  },
  {
   "cell_type": "code",
   "execution_count": 18,
   "id": "dffeb659",
   "metadata": {
    "execution": {
     "iopub.execute_input": "2025-07-01T05:42:05.253788Z",
     "iopub.status.busy": "2025-07-01T05:42:05.253510Z",
     "iopub.status.idle": "2025-07-01T05:42:05.260256Z",
     "shell.execute_reply": "2025-07-01T05:42:05.259407Z"
    },
    "papermill": {
     "duration": 0.014812,
     "end_time": "2025-07-01T05:42:05.261583",
     "exception": false,
     "start_time": "2025-07-01T05:42:05.246771",
     "status": "completed"
    },
    "tags": []
   },
   "outputs": [
    {
     "data": {
      "text/plain": [
       "0    169897.0\n",
       "1    134735.0\n",
       "2    195321.0\n",
       "3    164517.0\n",
       "4    195607.0\n",
       "Name: FY2024(sales), dtype: float64"
      ]
     },
     "execution_count": 18,
     "metadata": {},
     "output_type": "execute_result"
    }
   ],
   "source": [
    "data['FY2024(sales)'].head()"
   ]
  },
  {
   "cell_type": "code",
   "execution_count": null,
   "id": "16993ad0",
   "metadata": {
    "papermill": {
     "duration": 0.00546,
     "end_time": "2025-07-01T05:42:05.272987",
     "exception": false,
     "start_time": "2025-07-01T05:42:05.267527",
     "status": "completed"
    },
    "tags": []
   },
   "outputs": [],
   "source": []
  }
 ],
 "metadata": {
  "kaggle": {
   "accelerator": "none",
   "dataSources": [
    {
     "databundleVersionId": 12880936,
     "datasetId": 7764205,
     "sourceId": 12325690,
     "sourceType": "datasetVersion"
    }
   ],
   "dockerImageVersionId": 31040,
   "isGpuEnabled": false,
   "isInternetEnabled": true,
   "language": "python",
   "sourceType": "notebook"
  },
  "kernelspec": {
   "display_name": "Python 3",
   "language": "python",
   "name": "python3"
  },
  "language_info": {
   "codemirror_mode": {
    "name": "ipython",
    "version": 3
   },
   "file_extension": ".py",
   "mimetype": "text/x-python",
   "name": "python",
   "nbconvert_exporter": "python",
   "pygments_lexer": "ipython3",
   "version": "3.11.11"
  },
  "papermill": {
   "default_parameters": {},
   "duration": 10.661688,
   "end_time": "2025-07-01T05:42:05.998662",
   "environment_variables": {},
   "exception": null,
   "input_path": "__notebook__.ipynb",
   "output_path": "__notebook__.ipynb",
   "parameters": {},
   "start_time": "2025-07-01T05:41:55.336974",
   "version": "2.6.0"
  }
 },
 "nbformat": 4,
 "nbformat_minor": 5
}
