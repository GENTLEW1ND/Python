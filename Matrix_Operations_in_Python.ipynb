{
  "nbformat": 4,
  "nbformat_minor": 0,
  "metadata": {
    "colab": {
      "provenance": [],
      "authorship_tag": "ABX9TyO+QWI5QAVvqA2kzByI+SnZ",
      "include_colab_link": true
    },
    "kernelspec": {
      "name": "python3",
      "display_name": "Python 3"
    },
    "language_info": {
      "name": "python"
    }
  },
  "cells": [
    {
      "cell_type": "markdown",
      "metadata": {
        "id": "view-in-github",
        "colab_type": "text"
      },
      "source": [
        "<a href=\"https://colab.research.google.com/github/GENTLEW1ND/Python/blob/main/Matrix_Operations_in_Python.ipynb\" target=\"_parent\"><img src=\"https://colab.research.google.com/assets/colab-badge.svg\" alt=\"Open In Colab\"/></a>"
      ]
    },
    {
      "cell_type": "markdown",
      "source": [
        "Importing the Numpy Library : Numpy stands for Numerical Python."
      ],
      "metadata": {
        "id": "ZE_cibRe-Adk"
      }
    },
    {
      "cell_type": "code",
      "execution_count": 1,
      "metadata": {
        "id": "ld469Clr9rnR"
      },
      "outputs": [],
      "source": [
        "import numpy as np"
      ]
    },
    {
      "cell_type": "markdown",
      "source": [
        "Matrix Addition"
      ],
      "metadata": {
        "id": "4Ytp4nGM-WRW"
      }
    },
    {
      "cell_type": "markdown",
      "source": [
        "Two matrices can be added only if they have the same shape."
      ],
      "metadata": {
        "id": "bkX-fsWN-cSg"
      }
    },
    {
      "cell_type": "code",
      "source": [
        "# Creating two matrices\n",
        "A = np.array([[2,3],[4,5]])\n",
        "B = np.array([[6,7],[8,9]])\n",
        "sum = A+B\n",
        "print(sum)"
      ],
      "metadata": {
        "colab": {
          "base_uri": "https://localhost:8080/"
        },
        "id": "HqYZdXh9-PtD",
        "outputId": "f987188d-4dcd-47e2-d49b-45c50a243aad"
      },
      "execution_count": 2,
      "outputs": [
        {
          "output_type": "stream",
          "name": "stdout",
          "text": [
            "[[ 8 10]\n",
            " [12 14]]\n"
          ]
        }
      ]
    },
    {
      "cell_type": "code",
      "source": [
        "# Creating two matrices with random values\n",
        "matrix_1 = np.random.randint(10,size=(3,3))\n",
        "matrix_2 = np.random.randint(20,size=(3,3))\n",
        "sum = np.add(matrix_1, matrix_2)\n",
        "print(sum)"
      ],
      "metadata": {
        "colab": {
          "base_uri": "https://localhost:8080/"
        },
        "id": "JbOZAJrG_i7M",
        "outputId": "b1f9e545-979f-456c-ad74-09d3d1d70986"
      },
      "execution_count": 3,
      "outputs": [
        {
          "output_type": "stream",
          "name": "stdout",
          "text": [
            "[[18 14 19]\n",
            " [20 23 23]\n",
            " [23  9 12]]\n"
          ]
        }
      ]
    },
    {
      "cell_type": "markdown",
      "source": [
        "Matrix Substraction"
      ],
      "metadata": {
        "id": "5aP6eCdyA9P0"
      }
    },
    {
      "cell_type": "code",
      "source": [
        "# Creating two matrices\n",
        "A = np.array([[2,3],[4,5]])\n",
        "B = np.array([[6,7],[8,9]])\n",
        "diff = A-B\n",
        "print(diff)"
      ],
      "metadata": {
        "colab": {
          "base_uri": "https://localhost:8080/"
        },
        "id": "_wI-x2BlAXT5",
        "outputId": "f27bde15-98b8-46ec-e051-43cfdf6d5be8"
      },
      "execution_count": 4,
      "outputs": [
        {
          "output_type": "stream",
          "name": "stdout",
          "text": [
            "[[-4 -4]\n",
            " [-4 -4]]\n"
          ]
        }
      ]
    },
    {
      "cell_type": "code",
      "source": [
        "# Creating two matrices with random values\n",
        "matrix_1 = np.random.randint(10,size=(3,3))\n",
        "matrix_2 = np.random.randint(20,size=(3,3))\n",
        "diff = np.subtract(matrix_1, matrix_2)\n",
        "print(diff)"
      ],
      "metadata": {
        "colab": {
          "base_uri": "https://localhost:8080/"
        },
        "id": "6QQGmT9lBExK",
        "outputId": "33198469-1103-43f9-f8df-5c50b6baee05"
      },
      "execution_count": 5,
      "outputs": [
        {
          "output_type": "stream",
          "name": "stdout",
          "text": [
            "[[ -7 -10 -15]\n",
            " [ -3  -2 -10]\n",
            " [  3  -2 -13]]\n"
          ]
        }
      ]
    },
    {
      "cell_type": "markdown",
      "source": [
        "Matrix Multiplicaition uisng Scaler"
      ],
      "metadata": {
        "id": "IXWQBCKnBmiu"
      }
    },
    {
      "cell_type": "code",
      "source": [
        "x=5\n",
        "y=np.array([[1,2],[3,4]])\n",
        "mul = x*y\n",
        "print(mul)"
      ],
      "metadata": {
        "colab": {
          "base_uri": "https://localhost:8080/"
        },
        "id": "1YL-vsF4BjH1",
        "outputId": "a20edc89-d0e8-407d-ab43-33c1ff472d11"
      },
      "execution_count": 6,
      "outputs": [
        {
          "output_type": "stream",
          "name": "stdout",
          "text": [
            "[[ 5 10]\n",
            " [15 20]]\n"
          ]
        }
      ]
    },
    {
      "cell_type": "markdown",
      "source": [
        "Multiplication of two Matrices"
      ],
      "metadata": {
        "id": "tECTP9AICdjq"
      }
    },
    {
      "cell_type": "code",
      "source": [
        "# Creating two matrices\n",
        "A = np.array([[2,3],[4,5]])\n",
        "B = np.array([[6,7],[8,9]])\n",
        "mull = A * B\n",
        "print(mull)"
      ],
      "metadata": {
        "colab": {
          "base_uri": "https://localhost:8080/"
        },
        "id": "qgeZdx_8CLji",
        "outputId": "dc04db92-207f-4833-9bd5-5541d6a54dfe"
      },
      "execution_count": 7,
      "outputs": [
        {
          "output_type": "stream",
          "name": "stdout",
          "text": [
            "[[12 21]\n",
            " [32 45]]\n"
          ]
        }
      ]
    },
    {
      "cell_type": "code",
      "source": [
        "# Creating two matrices with random values\n",
        "matrix_1 = np.random.randint(10,size=(3,3))\n",
        "matrix_2 = np.random.randint(20,size=(3,3))\n",
        "mull = np.multiply(matrix_1, matrix_2)\n",
        "print(mull)"
      ],
      "metadata": {
        "colab": {
          "base_uri": "https://localhost:8080/"
        },
        "id": "bK00zlhzCrRW",
        "outputId": "b33ef641-c61b-4804-879c-0febf1143a9a"
      },
      "execution_count": 8,
      "outputs": [
        {
          "output_type": "stream",
          "name": "stdout",
          "text": [
            "[[ 32  40 144]\n",
            " [ 12  34  35]\n",
            " [126   0  24]]\n"
          ]
        }
      ]
    },
    {
      "cell_type": "code",
      "source": [],
      "metadata": {
        "id": "F7dKWV6UCzSz"
      },
      "execution_count": null,
      "outputs": []
    }
  ]
}