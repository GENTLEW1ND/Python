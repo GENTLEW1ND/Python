{
  "nbformat": 4,
  "nbformat_minor": 0,
  "metadata": {
    "colab": {
      "provenance": [],
      "authorship_tag": "ABX9TyOarXCMEAWPpYMeHPGQaslv",
      "include_colab_link": true
    },
    "kernelspec": {
      "name": "python3",
      "display_name": "Python 3"
    },
    "language_info": {
      "name": "python"
    }
  },
  "cells": [
    {
      "cell_type": "markdown",
      "metadata": {
        "id": "view-in-github",
        "colab_type": "text"
      },
      "source": [
        "<a href=\"https://colab.research.google.com/github/GENTLEW1ND/Python/blob/main/Processing_image_data_for_Deep_Learning.ipynb\" target=\"_parent\"><img src=\"https://colab.research.google.com/assets/colab-badge.svg\" alt=\"Open In Colab\"/></a>"
      ]
    },
    {
      "cell_type": "markdown",
      "source": [
        "Topics:\n",
        "\n",
        "1. Reading an image file and converting it to a numpy array\n",
        "2. Resizing an image\n",
        "3. RGB to Grayscale conversion\n",
        "\n",
        "\n"
      ],
      "metadata": {
        "id": "Bkuhz2bmfNEg"
      }
    },
    {
      "cell_type": "markdown",
      "source": [
        "**Libraries that can be used for image processing**\n",
        "\n",
        "1. matplotlib.image\n",
        "2. Pillow\n",
        "3. OpenCV (cv2) (CV-Computer Vision)\n"
      ],
      "metadata": {
        "id": "uPbb_4qexw0K"
      }
    },
    {
      "cell_type": "code",
      "source": [
        "# importing the image module from matplotlib library\n",
        "import matplotlib.image as mpimg\n",
        "import matplotlib.pyplot as plt"
      ],
      "metadata": {
        "id": "L2mbD7xgicQ1"
      },
      "execution_count": 8,
      "outputs": []
    },
    {
      "cell_type": "code",
      "source": [
        "# Loading an image through matplotlib.image module\n",
        "img = mpimg.imread('/content/dog.jpeg')"
      ],
      "metadata": {
        "id": "890v2KQ2yUnN"
      },
      "execution_count": 9,
      "outputs": []
    },
    {
      "cell_type": "code",
      "source": [
        "type(img)"
      ],
      "metadata": {
        "colab": {
          "base_uri": "https://localhost:8080/"
        },
        "id": "IRo_6OBmyjry",
        "outputId": "e89853ef-afb8-4737-f61e-9495dd05354d"
      },
      "execution_count": 10,
      "outputs": [
        {
          "output_type": "execute_result",
          "data": {
            "text/plain": [
              "numpy.ndarray"
            ]
          },
          "metadata": {},
          "execution_count": 10
        }
      ]
    },
    {
      "cell_type": "code",
      "source": [
        "print(img.shape)"
      ],
      "metadata": {
        "colab": {
          "base_uri": "https://localhost:8080/"
        },
        "id": "eMRNL2ejyo7c",
        "outputId": "b25c423f-12e8-4133-8fdb-d8edeb073a31"
      },
      "execution_count": 11,
      "outputs": [
        {
          "output_type": "stream",
          "name": "stdout",
          "text": [
            "(270, 342, 3)\n"
          ]
        }
      ]
    },
    {
      "cell_type": "code",
      "source": [],
      "metadata": {
        "id": "aD3Z60o0yw_L"
      },
      "execution_count": null,
      "outputs": []
    }
  ]
}