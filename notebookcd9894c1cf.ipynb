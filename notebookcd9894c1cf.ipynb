{
 "cells": [
  {
   "cell_type": "code",
   "execution_count": 1,
   "id": "7862def4",
   "metadata": {
    "_cell_guid": "b1076dfc-b9ad-4769-8c92-a6c4dae69d19",
    "_uuid": "8f2839f25d086af736a60e9eeb907d3b93b6e0e5",
    "execution": {
     "iopub.execute_input": "2025-05-13T05:48:43.726451Z",
     "iopub.status.busy": "2025-05-13T05:48:43.726037Z",
     "iopub.status.idle": "2025-05-13T05:48:45.700628Z",
     "shell.execute_reply": "2025-05-13T05:48:45.699536Z"
    },
    "papermill": {
     "duration": 1.98118,
     "end_time": "2025-05-13T05:48:45.702156",
     "exception": false,
     "start_time": "2025-05-13T05:48:43.720976",
     "status": "completed"
    },
    "tags": []
   },
   "outputs": [
    {
     "name": "stdout",
     "output_type": "stream",
     "text": [
      "/kaggle/input/simulated-dataset-jee-dropout-after-class-12/JEE_Dropout_After_Class_12.csv\n"
     ]
    }
   ],
   "source": [
    "# This Python 3 environment comes with many helpful analytics libraries installed\n",
    "# It is defined by the kaggle/python Docker image: https://github.com/kaggle/docker-python\n",
    "# For example, here's several helpful packages to load\n",
    "\n",
    "import numpy as np # linear algebra\n",
    "import pandas as pd # data processing, CSV file I/O (e.g. pd.read_csv)\n",
    "\n",
    "# Input data files are available in the read-only \"../input/\" directory\n",
    "# For example, running this (by clicking run or pressing Shift+Enter) will list all files under the input directory\n",
    "\n",
    "import os\n",
    "for dirname, _, filenames in os.walk('/kaggle/input'):\n",
    "    for filename in filenames:\n",
    "        print(os.path.join(dirname, filename))\n",
    "\n",
    "# You can write up to 20GB to the current directory (/kaggle/working/) that gets preserved as output when you create a version using \"Save & Run All\" \n",
    "# You can also write temporary files to /kaggle/temp/, but they won't be saved outside of the current session"
   ]
  },
  {
   "cell_type": "code",
   "execution_count": 2,
   "id": "5f31b399",
   "metadata": {
    "execution": {
     "iopub.execute_input": "2025-05-13T05:48:45.709982Z",
     "iopub.status.busy": "2025-05-13T05:48:45.709567Z",
     "iopub.status.idle": "2025-05-13T05:48:47.605093Z",
     "shell.execute_reply": "2025-05-13T05:48:47.604290Z"
    },
    "papermill": {
     "duration": 1.900978,
     "end_time": "2025-05-13T05:48:47.606732",
     "exception": false,
     "start_time": "2025-05-13T05:48:45.705754",
     "status": "completed"
    },
    "tags": []
   },
   "outputs": [],
   "source": [
    "import numpy as np\n",
    "import pandas as pd\n",
    "import matplotlib.pyplot as plt\n",
    "import seaborn as sns"
   ]
  },
  {
   "cell_type": "code",
   "execution_count": 3,
   "id": "3142a703",
   "metadata": {
    "execution": {
     "iopub.execute_input": "2025-05-13T05:48:47.613942Z",
     "iopub.status.busy": "2025-05-13T05:48:47.613510Z",
     "iopub.status.idle": "2025-05-13T05:48:47.647128Z",
     "shell.execute_reply": "2025-05-13T05:48:47.646208Z"
    },
    "papermill": {
     "duration": 0.039182,
     "end_time": "2025-05-13T05:48:47.648971",
     "exception": false,
     "start_time": "2025-05-13T05:48:47.609789",
     "status": "completed"
    },
    "tags": []
   },
   "outputs": [],
   "source": [
    "data = pd.read_csv('/kaggle/input/simulated-dataset-jee-dropout-after-class-12/JEE_Dropout_After_Class_12.csv')"
   ]
  },
  {
   "cell_type": "code",
   "execution_count": 4,
   "id": "adb01f58",
   "metadata": {
    "execution": {
     "iopub.execute_input": "2025-05-13T05:48:47.656154Z",
     "iopub.status.busy": "2025-05-13T05:48:47.655854Z",
     "iopub.status.idle": "2025-05-13T05:48:47.686263Z",
     "shell.execute_reply": "2025-05-13T05:48:47.685322Z"
    },
    "papermill": {
     "duration": 0.035572,
     "end_time": "2025-05-13T05:48:47.687703",
     "exception": false,
     "start_time": "2025-05-13T05:48:47.652131",
     "status": "completed"
    },
    "tags": []
   },
   "outputs": [
    {
     "data": {
      "text/html": [
       "<div>\n",
       "<style scoped>\n",
       "    .dataframe tbody tr th:only-of-type {\n",
       "        vertical-align: middle;\n",
       "    }\n",
       "\n",
       "    .dataframe tbody tr th {\n",
       "        vertical-align: top;\n",
       "    }\n",
       "\n",
       "    .dataframe thead th {\n",
       "        text-align: right;\n",
       "    }\n",
       "</style>\n",
       "<table border=\"1\" class=\"dataframe\">\n",
       "  <thead>\n",
       "    <tr style=\"text-align: right;\">\n",
       "      <th></th>\n",
       "      <th>jee_main_score</th>\n",
       "      <th>jee_advanced_score</th>\n",
       "      <th>mock_test_score_avg</th>\n",
       "      <th>school_board</th>\n",
       "      <th>class_12_percent</th>\n",
       "      <th>attempt_count</th>\n",
       "      <th>coaching_institute</th>\n",
       "      <th>daily_study_hours</th>\n",
       "      <th>family_income</th>\n",
       "      <th>parent_education</th>\n",
       "      <th>location_type</th>\n",
       "      <th>peer_pressure_level</th>\n",
       "      <th>mental_health_issues</th>\n",
       "      <th>admission_taken</th>\n",
       "      <th>dropout</th>\n",
       "    </tr>\n",
       "  </thead>\n",
       "  <tbody>\n",
       "    <tr>\n",
       "      <th>0</th>\n",
       "      <td>78.95</td>\n",
       "      <td>59.22</td>\n",
       "      <td>59.86</td>\n",
       "      <td>CBSE</td>\n",
       "      <td>70.09</td>\n",
       "      <td>1</td>\n",
       "      <td>FIITJEE</td>\n",
       "      <td>5.4</td>\n",
       "      <td>Low</td>\n",
       "      <td>Upto 10th</td>\n",
       "      <td>Urban</td>\n",
       "      <td>Low</td>\n",
       "      <td>No</td>\n",
       "      <td>No</td>\n",
       "      <td>1</td>\n",
       "    </tr>\n",
       "    <tr>\n",
       "      <th>1</th>\n",
       "      <td>70.06</td>\n",
       "      <td>58.75</td>\n",
       "      <td>64.33</td>\n",
       "      <td>State</td>\n",
       "      <td>78.00</td>\n",
       "      <td>1</td>\n",
       "      <td>FIITJEE</td>\n",
       "      <td>5.5</td>\n",
       "      <td>Mid</td>\n",
       "      <td>Upto 10th</td>\n",
       "      <td>Urban</td>\n",
       "      <td>Low</td>\n",
       "      <td>Yes</td>\n",
       "      <td>No</td>\n",
       "      <td>0</td>\n",
       "    </tr>\n",
       "    <tr>\n",
       "      <th>2</th>\n",
       "      <td>81.07</td>\n",
       "      <td>37.27</td>\n",
       "      <td>60.83</td>\n",
       "      <td>ICSE</td>\n",
       "      <td>64.36</td>\n",
       "      <td>1</td>\n",
       "      <td>FIITJEE</td>\n",
       "      <td>7.0</td>\n",
       "      <td>Low</td>\n",
       "      <td>PG</td>\n",
       "      <td>Semi-Urban</td>\n",
       "      <td>Medium</td>\n",
       "      <td>Yes</td>\n",
       "      <td>No</td>\n",
       "      <td>1</td>\n",
       "    </tr>\n",
       "    <tr>\n",
       "      <th>3</th>\n",
       "      <td>93.32</td>\n",
       "      <td>60.72</td>\n",
       "      <td>69.33</td>\n",
       "      <td>ICSE</td>\n",
       "      <td>73.21</td>\n",
       "      <td>1</td>\n",
       "      <td>FIITJEE</td>\n",
       "      <td>2.1</td>\n",
       "      <td>Low</td>\n",
       "      <td>12th</td>\n",
       "      <td>Semi-Urban</td>\n",
       "      <td>Medium</td>\n",
       "      <td>Yes</td>\n",
       "      <td>Yes</td>\n",
       "      <td>0</td>\n",
       "    </tr>\n",
       "    <tr>\n",
       "      <th>4</th>\n",
       "      <td>68.72</td>\n",
       "      <td>77.73</td>\n",
       "      <td>82.37</td>\n",
       "      <td>CBSE</td>\n",
       "      <td>89.02</td>\n",
       "      <td>1</td>\n",
       "      <td>Allen</td>\n",
       "      <td>6.3</td>\n",
       "      <td>Mid</td>\n",
       "      <td>Graduate</td>\n",
       "      <td>Semi-Urban</td>\n",
       "      <td>High</td>\n",
       "      <td>No</td>\n",
       "      <td>Yes</td>\n",
       "      <td>0</td>\n",
       "    </tr>\n",
       "  </tbody>\n",
       "</table>\n",
       "</div>"
      ],
      "text/plain": [
       "   jee_main_score  jee_advanced_score  mock_test_score_avg school_board  \\\n",
       "0           78.95               59.22                59.86         CBSE   \n",
       "1           70.06               58.75                64.33        State   \n",
       "2           81.07               37.27                60.83         ICSE   \n",
       "3           93.32               60.72                69.33         ICSE   \n",
       "4           68.72               77.73                82.37         CBSE   \n",
       "\n",
       "   class_12_percent  attempt_count coaching_institute  daily_study_hours  \\\n",
       "0             70.09              1            FIITJEE                5.4   \n",
       "1             78.00              1            FIITJEE                5.5   \n",
       "2             64.36              1            FIITJEE                7.0   \n",
       "3             73.21              1            FIITJEE                2.1   \n",
       "4             89.02              1              Allen                6.3   \n",
       "\n",
       "  family_income parent_education location_type peer_pressure_level  \\\n",
       "0           Low        Upto 10th         Urban                 Low   \n",
       "1           Mid        Upto 10th         Urban                 Low   \n",
       "2           Low               PG    Semi-Urban              Medium   \n",
       "3           Low             12th    Semi-Urban              Medium   \n",
       "4           Mid         Graduate    Semi-Urban                High   \n",
       "\n",
       "  mental_health_issues admission_taken  dropout  \n",
       "0                   No              No        1  \n",
       "1                  Yes              No        0  \n",
       "2                  Yes              No        1  \n",
       "3                  Yes             Yes        0  \n",
       "4                   No             Yes        0  "
      ]
     },
     "execution_count": 4,
     "metadata": {},
     "output_type": "execute_result"
    }
   ],
   "source": [
    "data.head()"
   ]
  },
  {
   "cell_type": "code",
   "execution_count": 5,
   "id": "a38f61a4",
   "metadata": {
    "execution": {
     "iopub.execute_input": "2025-05-13T05:48:47.695399Z",
     "iopub.status.busy": "2025-05-13T05:48:47.695068Z",
     "iopub.status.idle": "2025-05-13T05:48:47.700660Z",
     "shell.execute_reply": "2025-05-13T05:48:47.699811Z"
    },
    "papermill": {
     "duration": 0.011089,
     "end_time": "2025-05-13T05:48:47.702118",
     "exception": false,
     "start_time": "2025-05-13T05:48:47.691029",
     "status": "completed"
    },
    "tags": []
   },
   "outputs": [
    {
     "data": {
      "text/plain": [
       "(5000, 15)"
      ]
     },
     "execution_count": 5,
     "metadata": {},
     "output_type": "execute_result"
    }
   ],
   "source": [
    "data.shape"
   ]
  },
  {
   "cell_type": "code",
   "execution_count": 6,
   "id": "f3ac652d",
   "metadata": {
    "execution": {
     "iopub.execute_input": "2025-05-13T05:48:47.710117Z",
     "iopub.status.busy": "2025-05-13T05:48:47.709456Z",
     "iopub.status.idle": "2025-05-13T05:48:47.735188Z",
     "shell.execute_reply": "2025-05-13T05:48:47.734076Z"
    },
    "papermill": {
     "duration": 0.031182,
     "end_time": "2025-05-13T05:48:47.736687",
     "exception": false,
     "start_time": "2025-05-13T05:48:47.705505",
     "status": "completed"
    },
    "tags": []
   },
   "outputs": [
    {
     "name": "stdout",
     "output_type": "stream",
     "text": [
      "<class 'pandas.core.frame.DataFrame'>\n",
      "RangeIndex: 5000 entries, 0 to 4999\n",
      "Data columns (total 15 columns):\n",
      " #   Column                Non-Null Count  Dtype  \n",
      "---  ------                --------------  -----  \n",
      " 0   jee_main_score        5000 non-null   float64\n",
      " 1   jee_advanced_score    5000 non-null   float64\n",
      " 2   mock_test_score_avg   5000 non-null   float64\n",
      " 3   school_board          5000 non-null   object \n",
      " 4   class_12_percent      5000 non-null   float64\n",
      " 5   attempt_count         5000 non-null   int64  \n",
      " 6   coaching_institute    3791 non-null   object \n",
      " 7   daily_study_hours     5000 non-null   float64\n",
      " 8   family_income         5000 non-null   object \n",
      " 9   parent_education      5000 non-null   object \n",
      " 10  location_type         5000 non-null   object \n",
      " 11  peer_pressure_level   5000 non-null   object \n",
      " 12  mental_health_issues  5000 non-null   object \n",
      " 13  admission_taken       5000 non-null   object \n",
      " 14  dropout               5000 non-null   int64  \n",
      "dtypes: float64(5), int64(2), object(8)\n",
      "memory usage: 586.1+ KB\n"
     ]
    }
   ],
   "source": [
    "data.info()"
   ]
  },
  {
   "cell_type": "code",
   "execution_count": 7,
   "id": "ff659a2a",
   "metadata": {
    "execution": {
     "iopub.execute_input": "2025-05-13T05:48:47.744650Z",
     "iopub.status.busy": "2025-05-13T05:48:47.744357Z",
     "iopub.status.idle": "2025-05-13T05:48:47.749913Z",
     "shell.execute_reply": "2025-05-13T05:48:47.749167Z"
    },
    "papermill": {
     "duration": 0.011232,
     "end_time": "2025-05-13T05:48:47.751326",
     "exception": false,
     "start_time": "2025-05-13T05:48:47.740094",
     "status": "completed"
    },
    "tags": []
   },
   "outputs": [
    {
     "data": {
      "text/plain": [
       "(5000,)"
      ]
     },
     "execution_count": 7,
     "metadata": {},
     "output_type": "execute_result"
    }
   ],
   "source": [
    "data['coaching_institute'].shape"
   ]
  },
  {
   "cell_type": "code",
   "execution_count": 8,
   "id": "3a8bc924",
   "metadata": {
    "execution": {
     "iopub.execute_input": "2025-05-13T05:48:47.759466Z",
     "iopub.status.busy": "2025-05-13T05:48:47.759033Z",
     "iopub.status.idle": "2025-05-13T05:48:47.765928Z",
     "shell.execute_reply": "2025-05-13T05:48:47.764997Z"
    },
    "papermill": {
     "duration": 0.012685,
     "end_time": "2025-05-13T05:48:47.767527",
     "exception": false,
     "start_time": "2025-05-13T05:48:47.754842",
     "status": "completed"
    },
    "tags": []
   },
   "outputs": [
    {
     "data": {
      "text/plain": [
       "4995    FIITJEE\n",
       "4996      Local\n",
       "4997        NaN\n",
       "4998      Allen\n",
       "4999    FIITJEE\n",
       "Name: coaching_institute, dtype: object"
      ]
     },
     "execution_count": 8,
     "metadata": {},
     "output_type": "execute_result"
    }
   ],
   "source": [
    "data['coaching_institute'].tail()"
   ]
  },
  {
   "cell_type": "code",
   "execution_count": 9,
   "id": "7afda0e0",
   "metadata": {
    "execution": {
     "iopub.execute_input": "2025-05-13T05:48:47.775706Z",
     "iopub.status.busy": "2025-05-13T05:48:47.775412Z",
     "iopub.status.idle": "2025-05-13T05:48:47.783139Z",
     "shell.execute_reply": "2025-05-13T05:48:47.782186Z"
    },
    "papermill": {
     "duration": 0.013475,
     "end_time": "2025-05-13T05:48:47.784613",
     "exception": false,
     "start_time": "2025-05-13T05:48:47.771138",
     "status": "completed"
    },
    "tags": []
   },
   "outputs": [
    {
     "data": {
      "text/plain": [
       "coaching_institute\n",
       "FIITJEE    1298\n",
       "Local      1265\n",
       "Allen      1228\n",
       "Name: count, dtype: int64"
      ]
     },
     "execution_count": 9,
     "metadata": {},
     "output_type": "execute_result"
    }
   ],
   "source": [
    "data['coaching_institute'].value_counts()"
   ]
  },
  {
   "cell_type": "code",
   "execution_count": 10,
   "id": "b68f4cbf",
   "metadata": {
    "execution": {
     "iopub.execute_input": "2025-05-13T05:48:47.793139Z",
     "iopub.status.busy": "2025-05-13T05:48:47.792762Z",
     "iopub.status.idle": "2025-05-13T05:48:47.798520Z",
     "shell.execute_reply": "2025-05-13T05:48:47.797581Z"
    },
    "papermill": {
     "duration": 0.011644,
     "end_time": "2025-05-13T05:48:47.799925",
     "exception": false,
     "start_time": "2025-05-13T05:48:47.788281",
     "status": "completed"
    },
    "tags": []
   },
   "outputs": [
    {
     "name": "stdout",
     "output_type": "stream",
     "text": [
      "1209\n"
     ]
    }
   ],
   "source": [
    "print(data['coaching_institute'].isna().sum())"
   ]
  },
  {
   "cell_type": "code",
   "execution_count": 11,
   "id": "5fec16bc",
   "metadata": {
    "execution": {
     "iopub.execute_input": "2025-05-13T05:48:47.808296Z",
     "iopub.status.busy": "2025-05-13T05:48:47.807972Z",
     "iopub.status.idle": "2025-05-13T05:48:47.813380Z",
     "shell.execute_reply": "2025-05-13T05:48:47.812550Z"
    },
    "papermill": {
     "duration": 0.011243,
     "end_time": "2025-05-13T05:48:47.814811",
     "exception": false,
     "start_time": "2025-05-13T05:48:47.803568",
     "status": "completed"
    },
    "tags": []
   },
   "outputs": [],
   "source": [
    "data['coaching_institute'].dropna(axis=0,inplace=True)"
   ]
  },
  {
   "cell_type": "code",
   "execution_count": 12,
   "id": "d4069636",
   "metadata": {
    "execution": {
     "iopub.execute_input": "2025-05-13T05:48:47.823417Z",
     "iopub.status.busy": "2025-05-13T05:48:47.822902Z",
     "iopub.status.idle": "2025-05-13T05:48:47.828959Z",
     "shell.execute_reply": "2025-05-13T05:48:47.828071Z"
    },
    "papermill": {
     "duration": 0.012044,
     "end_time": "2025-05-13T05:48:47.830631",
     "exception": false,
     "start_time": "2025-05-13T05:48:47.818587",
     "status": "completed"
    },
    "tags": []
   },
   "outputs": [
    {
     "name": "stderr",
     "output_type": "stream",
     "text": [
      "/tmp/ipykernel_13/3278920460.py:1: FutureWarning: A value is trying to be set on a copy of a DataFrame or Series through chained assignment using an inplace method.\n",
      "The behavior will change in pandas 3.0. This inplace method will never work because the intermediate object on which we are setting values always behaves as a copy.\n",
      "\n",
      "For example, when doing 'df[col].method(value, inplace=True)', try using 'df.method({col: value}, inplace=True)' or df[col] = df[col].method(value) instead, to perform the operation inplace on the original object.\n",
      "\n",
      "\n",
      "  data['coaching_institute'].fillna('Unknown',inplace=True)\n"
     ]
    }
   ],
   "source": [
    "data['coaching_institute'].fillna('Unknown',inplace=True)"
   ]
  },
  {
   "cell_type": "code",
   "execution_count": 13,
   "id": "4d6a7e61",
   "metadata": {
    "execution": {
     "iopub.execute_input": "2025-05-13T05:48:47.839132Z",
     "iopub.status.busy": "2025-05-13T05:48:47.838856Z",
     "iopub.status.idle": "2025-05-13T05:48:47.846370Z",
     "shell.execute_reply": "2025-05-13T05:48:47.845578Z"
    },
    "papermill": {
     "duration": 0.013405,
     "end_time": "2025-05-13T05:48:47.847865",
     "exception": false,
     "start_time": "2025-05-13T05:48:47.834460",
     "status": "completed"
    },
    "tags": []
   },
   "outputs": [
    {
     "data": {
      "text/plain": [
       "coaching_institute\n",
       "FIITJEE    1298\n",
       "Local      1265\n",
       "Allen      1228\n",
       "Unknown    1209\n",
       "Name: count, dtype: int64"
      ]
     },
     "execution_count": 13,
     "metadata": {},
     "output_type": "execute_result"
    }
   ],
   "source": [
    "data['coaching_institute'].value_counts()"
   ]
  },
  {
   "cell_type": "code",
   "execution_count": null,
   "id": "00a35981",
   "metadata": {
    "papermill": {
     "duration": 0.003523,
     "end_time": "2025-05-13T05:48:47.855362",
     "exception": false,
     "start_time": "2025-05-13T05:48:47.851839",
     "status": "completed"
    },
    "tags": []
   },
   "outputs": [],
   "source": []
  }
 ],
 "metadata": {
  "kaggle": {
   "accelerator": "none",
   "dataSources": [
    {
     "datasetId": 7076875,
     "sourceId": 11314261,
     "sourceType": "datasetVersion"
    }
   ],
   "dockerImageVersionId": 31040,
   "isGpuEnabled": false,
   "isInternetEnabled": true,
   "language": "python",
   "sourceType": "notebook"
  },
  "kernelspec": {
   "display_name": "Python 3",
   "language": "python",
   "name": "python3"
  },
  "language_info": {
   "codemirror_mode": {
    "name": "ipython",
    "version": 3
   },
   "file_extension": ".py",
   "mimetype": "text/x-python",
   "name": "python",
   "nbconvert_exporter": "python",
   "pygments_lexer": "ipython3",
   "version": "3.11.11"
  },
  "papermill": {
   "default_parameters": {},
   "duration": 10.554838,
   "end_time": "2025-05-13T05:48:48.478018",
   "environment_variables": {},
   "exception": null,
   "input_path": "__notebook__.ipynb",
   "output_path": "__notebook__.ipynb",
   "parameters": {},
   "start_time": "2025-05-13T05:48:37.923180",
   "version": "2.6.0"
  }
 },
 "nbformat": 4,
 "nbformat_minor": 5
}
