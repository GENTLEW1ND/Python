{
  "nbformat": 4,
  "nbformat_minor": 0,
  "metadata": {
    "colab": {
      "provenance": [],
      "authorship_tag": "ABX9TyNT5g7hOs//JkhIOniRY5kk",
      "include_colab_link": true
    },
    "kernelspec": {
      "name": "python3",
      "display_name": "Python 3"
    },
    "language_info": {
      "name": "python"
    }
  },
  "cells": [
    {
      "cell_type": "markdown",
      "metadata": {
        "id": "view-in-github",
        "colab_type": "text"
      },
      "source": [
        "<a href=\"https://colab.research.google.com/github/GENTLEW1ND/Python/blob/main/Basics_of_python.ipynb\" target=\"_parent\"><img src=\"https://colab.research.google.com/assets/colab-badge.svg\" alt=\"Open In Colab\"/></a>"
      ]
    },
    {
      "cell_type": "markdown",
      "source": [
        "Programming Languages used for Machine Languages."
      ],
      "metadata": {
        "id": "gS2uAozFm227"
      }
    },
    {
      "cell_type": "code",
      "execution_count": null,
      "metadata": {
        "colab": {
          "base_uri": "https://localhost:8080/"
        },
        "id": "vk6A1BrcWt-b",
        "outputId": "0235abed-1d2a-43c3-ab05-f19ca79345b1"
      },
      "outputs": [
        {
          "output_type": "stream",
          "name": "stdout",
          "text": [
            "Machin Languages\n"
          ]
        }
      ],
      "source": [
        "print(\"Machin Languages\")"
      ]
    },
    {
      "cell_type": "markdown",
      "source": [
        "#Basic Data Types:\n",
        "\n",
        "\n",
        "1.   int\n",
        "2.   float\n",
        "3.   str\n",
        "\n"
      ],
      "metadata": {
        "id": "yHGXCyKyoxGE"
      }
    },
    {
      "cell_type": "code",
      "source": [
        "type(8.0)"
      ],
      "metadata": {
        "colab": {
          "base_uri": "https://localhost:8080/"
        },
        "id": "BKiesoD3nd2M",
        "outputId": "f7c023b3-9f1b-4a6a-81ad-627c3233ecb4"
      },
      "execution_count": null,
      "outputs": [
        {
          "output_type": "execute_result",
          "data": {
            "text/plain": [
              "float"
            ]
          },
          "metadata": {},
          "execution_count": 7
        }
      ]
    },
    {
      "cell_type": "code",
      "source": [
        "type(8.0)"
      ],
      "metadata": {
        "colab": {
          "base_uri": "https://localhost:8080/"
        },
        "id": "kV-jVwPwpH6W",
        "outputId": "9ab75f98-c9a9-4174-92a8-cd8e50f89636"
      },
      "execution_count": null,
      "outputs": [
        {
          "output_type": "execute_result",
          "data": {
            "text/plain": [
              "float"
            ]
          },
          "metadata": {},
          "execution_count": 8
        }
      ]
    },
    {
      "cell_type": "code",
      "source": [
        "type(\"str\")"
      ],
      "metadata": {
        "colab": {
          "base_uri": "https://localhost:8080/"
        },
        "id": "7wp97daTpJ__",
        "outputId": "9fcee627-4f69-41b9-da81-8a38a7e222e0"
      },
      "execution_count": null,
      "outputs": [
        {
          "output_type": "execute_result",
          "data": {
            "text/plain": [
              "str"
            ]
          },
          "metadata": {},
          "execution_count": 11
        }
      ]
    },
    {
      "cell_type": "code",
      "source": [],
      "metadata": {
        "id": "go0hQE_fpOK2"
      },
      "execution_count": null,
      "outputs": []
    },
    {
      "cell_type": "markdown",
      "source": [
        "#Constants and Varables\n"
      ],
      "metadata": {
        "id": "m0eMJdmjpda-"
      }
    },
    {
      "cell_type": "code",
      "source": [
        "superhero = \"Iron Man\"\n",
        "print(superhero)"
      ],
      "metadata": {
        "colab": {
          "base_uri": "https://localhost:8080/"
        },
        "id": "4ldvJ9Fzprvx",
        "outputId": "b0f9fd63-bf02-47ca-90d6-019f3655ab9d"
      },
      "execution_count": null,
      "outputs": [
        {
          "output_type": "stream",
          "name": "stdout",
          "text": [
            "Iron Man\n"
          ]
        }
      ]
    },
    {
      "cell_type": "code",
      "source": [
        "# superhero = \"captain america\"\n",
        "print(superhero)"
      ],
      "metadata": {
        "colab": {
          "base_uri": "https://localhost:8080/"
        },
        "id": "ayB-ZTIQp2zL",
        "outputId": "c985e808-b281-4fe3-c831-7117f5a25d65"
      },
      "execution_count": null,
      "outputs": [
        {
          "output_type": "stream",
          "name": "stdout",
          "text": [
            "Iron Man\n"
          ]
        }
      ]
    },
    {
      "cell_type": "code",
      "source": [
        "hero1, hero2, hero3 = \"iron man\", \"captain america\", \"spiderman\"\n",
        "print(hero1)\n",
        "print(hero2)\n",
        "print(hero3)"
      ],
      "metadata": {
        "colab": {
          "base_uri": "https://localhost:8080/"
        },
        "id": "YrYTsh-orDrv",
        "outputId": "4313f22a-3219-4165-dec9-88c0018b8061"
      },
      "execution_count": null,
      "outputs": [
        {
          "output_type": "stream",
          "name": "stdout",
          "text": [
            "iron man\n",
            "captain america\n",
            "spiderman\n"
          ]
        }
      ]
    },
    {
      "cell_type": "code",
      "source": [
        "x=y=z=35\n",
        "print(x)\n",
        "print(y)\n",
        "print(z)"
      ],
      "metadata": {
        "colab": {
          "base_uri": "https://localhost:8080/"
        },
        "id": "O3W0oLwNrMBk",
        "outputId": "7504e1b6-d53f-4109-9aad-498a4c3ff4ff"
      },
      "execution_count": null,
      "outputs": [
        {
          "output_type": "stream",
          "name": "stdout",
          "text": [
            "35\n",
            "35\n",
            "35\n"
          ]
        }
      ]
    },
    {
      "cell_type": "markdown",
      "source": [
        "#Input functions\n"
      ],
      "metadata": {
        "id": "nz0PWPzoraRu"
      }
    },
    {
      "cell_type": "code",
      "source": [
        "number1 = input(\"enter the first number\")\n",
        "number2 = input(\"enter the second number\")\n",
        "print(number1 + number2)"
      ],
      "metadata": {
        "colab": {
          "base_uri": "https://localhost:8080/"
        },
        "collapsed": true,
        "id": "s1YmdnW0reXb",
        "outputId": "923e8c78-7288-441c-c435-be235516eb23"
      },
      "execution_count": null,
      "outputs": [
        {
          "output_type": "stream",
          "name": "stdout",
          "text": [
            "enter the first number23\n",
            "enter the second number23\n",
            "2323\n"
          ]
        }
      ]
    },
    {
      "cell_type": "code",
      "source": [
        "number1 = int(input(\"enter the first number\"))\n",
        "number2 = int(input(\"enter the second number\"))\n",
        "print(number1 + number2)"
      ],
      "metadata": {
        "colab": {
          "base_uri": "https://localhost:8080/"
        },
        "id": "k86xsn-gsazE",
        "outputId": "b144b53c-92cb-4357-9fa7-3241acbc0ff8"
      },
      "execution_count": null,
      "outputs": [
        {
          "output_type": "stream",
          "name": "stdout",
          "text": [
            "enter the first number23\n",
            "enter the second number23\n",
            "46\n"
          ]
        }
      ]
    },
    {
      "cell_type": "code",
      "source": [
        "#changing the data type of the variables\n",
        "num = 5\n",
        "print(float(num))"
      ],
      "metadata": {
        "colab": {
          "base_uri": "https://localhost:8080/"
        },
        "id": "a7G876-Csgqj",
        "outputId": "8c1323cc-80d7-4362-9944-8b04b6070297"
      },
      "execution_count": null,
      "outputs": [
        {
          "output_type": "stream",
          "name": "stdout",
          "text": [
            "5.0\n"
          ]
        }
      ]
    },
    {
      "cell_type": "markdown",
      "source": [
        "#Data types\n",
        "\n",
        "Types object in Python\n",
        "1. Immutable Objects\n",
        "2. Mutable Objects\n",
        "\n",
        "Immutable Objects\n",
        "1. int\n",
        "2. float\n",
        "3. string\n",
        "4. bool\n",
        "5. tuple\n",
        "\n",
        "Mutable Objects\n",
        "1. List\n",
        "2. Set\n",
        "3. Dictonary"
      ],
      "metadata": {
        "id": "qgzrrznEdZia"
      }
    },
    {
      "cell_type": "markdown",
      "source": [
        "List\n",
        "Lists are Mutable -> Changeable"
      ],
      "metadata": {
        "id": "f8ydedbHeF81"
      }
    },
    {
      "cell_type": "code",
      "source": [
        "# list should be included in the square brackets\n",
        "my_list = [1,2,3,4,5]\n",
        "print(my_list)\n",
        "type(my_list)"
      ],
      "metadata": {
        "colab": {
          "base_uri": "https://localhost:8080/"
        },
        "id": "OIfW5pENddeI",
        "outputId": "206a9d06-410c-487b-b457-30ac8cd9676f"
      },
      "execution_count": null,
      "outputs": [
        {
          "output_type": "stream",
          "name": "stdout",
          "text": [
            "[1, 2, 3, 4, 5]\n"
          ]
        },
        {
          "output_type": "execute_result",
          "data": {
            "text/plain": [
              "list"
            ]
          },
          "metadata": {},
          "execution_count": 1
        }
      ]
    },
    {
      "cell_type": "code",
      "source": [
        "# List can have multiple data types\n",
        "my_list = [2,3,1.8,5,\"string\",True]\n",
        "print(my_list)"
      ],
      "metadata": {
        "colab": {
          "base_uri": "https://localhost:8080/"
        },
        "id": "DY4SvWoPeeS4",
        "outputId": "3bbf8e45-8ae8-4887-f5b5-85e0eaa68207"
      },
      "execution_count": null,
      "outputs": [
        {
          "output_type": "stream",
          "name": "stdout",
          "text": [
            "[2, 3, 1.8, 5, 'string', True]\n"
          ]
        }
      ]
    },
    {
      "cell_type": "code",
      "source": [
        "# add elements to a list\n",
        "my_list.append(\"new element\")\n",
        "print(my_list)"
      ],
      "metadata": {
        "colab": {
          "base_uri": "https://localhost:8080/"
        },
        "id": "_62AAgv8i5Lc",
        "outputId": "53e9776b-51d2-4a14-fcd7-45daacd2aa14"
      },
      "execution_count": null,
      "outputs": [
        {
          "output_type": "stream",
          "name": "stdout",
          "text": [
            "[2, 3, 1.8, 5, 'string', True, 'new element', 'new element']\n"
          ]
        }
      ]
    },
    {
      "cell_type": "code",
      "source": [
        "#print elements of a list using their index\n",
        "print(my_list[0])\n",
        "print(my_list[4])"
      ],
      "metadata": {
        "colab": {
          "base_uri": "https://localhost:8080/"
        },
        "id": "9P6ipJ7qjEqT",
        "outputId": "b6cf6194-1411-4813-d068-4f650b8212c6"
      },
      "execution_count": null,
      "outputs": [
        {
          "output_type": "stream",
          "name": "stdout",
          "text": [
            "2\n",
            "string\n"
          ]
        }
      ]
    },
    {
      "cell_type": "code",
      "source": [
        "# List allow duplicate values\n",
        "list_1 = [1,2,3,4,5,5,5]\n",
        "print(list_1)"
      ],
      "metadata": {
        "colab": {
          "base_uri": "https://localhost:8080/"
        },
        "id": "KauO6bVulBBr",
        "outputId": "805792e6-a36e-4aec-b347-0f05c6a92e1a"
      },
      "execution_count": null,
      "outputs": [
        {
          "output_type": "stream",
          "name": "stdout",
          "text": [
            "[1, 2, 3, 4, 5, 5, 5]\n"
          ]
        }
      ]
    },
    {
      "cell_type": "code",
      "source": [
        "print(len(list_1))"
      ],
      "metadata": {
        "colab": {
          "base_uri": "https://localhost:8080/"
        },
        "id": "sgCf6SjxlVGL",
        "outputId": "6a30f753-59f9-4df4-aa72-6a8c56db6b97"
      },
      "execution_count": null,
      "outputs": [
        {
          "output_type": "stream",
          "name": "stdout",
          "text": [
            "7\n"
          ]
        }
      ]
    },
    {
      "cell_type": "code",
      "source": [
        "#initialting an empty list\n",
        "list_2 = []\n",
        "print(list_2)"
      ],
      "metadata": {
        "colab": {
          "base_uri": "https://localhost:8080/"
        },
        "id": "sS_1iV-Elkle",
        "outputId": "dbb0f00c-5716-4d2e-e9e7-50b9246ed7d2"
      },
      "execution_count": null,
      "outputs": [
        {
          "output_type": "stream",
          "name": "stdout",
          "text": [
            "[]\n"
          ]
        }
      ]
    },
    {
      "cell_type": "code",
      "source": [
        "list_2.append(2)\n",
        "print(list_2)"
      ],
      "metadata": {
        "colab": {
          "base_uri": "https://localhost:8080/"
        },
        "id": "swJjiDIElsuu",
        "outputId": "461aec02-4ab8-44b9-cfa6-51a9149adb1f"
      },
      "execution_count": null,
      "outputs": [
        {
          "output_type": "stream",
          "name": "stdout",
          "text": [
            "[2, 2]\n"
          ]
        }
      ]
    },
    {
      "cell_type": "code",
      "source": [
        "# delete an item in a list\n",
        "list_1 = [1,2,3,4,5,5,5]\n",
        "print(list_1)\n",
        "del list_1[0]\n",
        "print(list_1)\n"
      ],
      "metadata": {
        "colab": {
          "base_uri": "https://localhost:8080/"
        },
        "id": "uh6dwjazl0RZ",
        "outputId": "1c570b6a-08c0-4ce9-e74d-3e9564d678a9"
      },
      "execution_count": null,
      "outputs": [
        {
          "output_type": "stream",
          "name": "stdout",
          "text": [
            "[1, 2, 3, 4, 5, 5, 5]\n",
            "[2, 3, 4, 5, 5, 5]\n"
          ]
        }
      ]
    },
    {
      "cell_type": "code",
      "source": [
        "#join two list\n",
        "list_3 = list_1 + list_2\n",
        "print(list_3)"
      ],
      "metadata": {
        "colab": {
          "base_uri": "https://localhost:8080/"
        },
        "id": "Eekf1BUOmO2z",
        "outputId": "ced47427-5b7f-4b45-c779-1fa480d3c4a5"
      },
      "execution_count": null,
      "outputs": [
        {
          "output_type": "stream",
          "name": "stdout",
          "text": [
            "[2, 3, 4, 5, 5, 5, 2, 2]\n"
          ]
        }
      ]
    },
    {
      "cell_type": "markdown",
      "source": [
        "Tuple\n",
        "They are immutable -> cannot be changed"
      ],
      "metadata": {
        "id": "54xg-wVqmgdA"
      }
    },
    {
      "cell_type": "code",
      "source": [
        "tuple_1 = (1,2,3,4,5)\n",
        "print(tuple_1)\n",
        "type(tuple_1)"
      ],
      "metadata": {
        "colab": {
          "base_uri": "https://localhost:8080/"
        },
        "id": "YFT7_9mwmoR6",
        "outputId": "45b822ce-463d-48c5-bd6d-23c26ad1a273"
      },
      "execution_count": null,
      "outputs": [
        {
          "output_type": "stream",
          "name": "stdout",
          "text": [
            "(1, 2, 3, 4, 5)\n"
          ]
        },
        {
          "output_type": "execute_result",
          "data": {
            "text/plain": [
              "tuple"
            ]
          },
          "metadata": {},
          "execution_count": 26
        }
      ]
    },
    {
      "cell_type": "code",
      "source": [
        "# typle allows multiple data types in a single tuple\n",
        "typle_2 = (1,2,3.5,True,\"string\")\n",
        "print(typle_2)"
      ],
      "metadata": {
        "colab": {
          "base_uri": "https://localhost:8080/"
        },
        "id": "6mc1fgewnV6z",
        "outputId": "f3bdec05-5779-42d3-c45e-54028ea56070"
      },
      "execution_count": null,
      "outputs": [
        {
          "output_type": "stream",
          "name": "stdout",
          "text": [
            "(1, 2, 3.5, True, 'string')\n"
          ]
        }
      ]
    },
    {
      "cell_type": "code",
      "source": [
        "# converting a list to a tuple\n",
        "\n",
        "my_list = [2,4,5,6]\n",
        "print(my_list)\n",
        "my_tuple = tuple(my_list)\n",
        "print(my_tuple)\n"
      ],
      "metadata": {
        "colab": {
          "base_uri": "https://localhost:8080/"
        },
        "id": "TSWzR14Pno5V",
        "outputId": "52ef4e10-b6a7-43ab-8ee0-ce4079d990cc"
      },
      "execution_count": null,
      "outputs": [
        {
          "output_type": "stream",
          "name": "stdout",
          "text": [
            "[2, 4, 5, 6]\n",
            "(2, 4, 5, 6)\n"
          ]
        }
      ]
    },
    {
      "cell_type": "code",
      "source": [
        "print(my_tuple[2])"
      ],
      "metadata": {
        "colab": {
          "base_uri": "https://localhost:8080/"
        },
        "id": "Cb3LBiDqoGrY",
        "outputId": "bffdce5a-6ba5-4785-9d12-67aa8b5f2497"
      },
      "execution_count": null,
      "outputs": [
        {
          "output_type": "stream",
          "name": "stdout",
          "text": [
            "5\n"
          ]
        }
      ]
    },
    {
      "cell_type": "code",
      "source": [
        "print(len(my_tuple))"
      ],
      "metadata": {
        "colab": {
          "base_uri": "https://localhost:8080/"
        },
        "id": "YEqRQ0iJxSTA",
        "outputId": "1a638f8b-b00b-4195-d79a-13d0a5cdbee8"
      },
      "execution_count": null,
      "outputs": [
        {
          "output_type": "stream",
          "name": "stdout",
          "text": [
            "4\n"
          ]
        }
      ]
    },
    {
      "cell_type": "markdown",
      "source": [
        "Set\n",
        "They are Mutable\n",
        ".We cannot call set using its index. Set dons not allow duplicate values."
      ],
      "metadata": {
        "id": "qJJNRUKdxc4u"
      }
    },
    {
      "cell_type": "code",
      "source": [
        "my_set = {1,2,3,4,5}\n",
        "print(my_set)\n",
        "type(my_set)"
      ],
      "metadata": {
        "colab": {
          "base_uri": "https://localhost:8080/"
        },
        "id": "CnfFTF7LxlFU",
        "outputId": "f3a34250-331e-4059-b4b7-40d4a85e5562"
      },
      "execution_count": null,
      "outputs": [
        {
          "output_type": "stream",
          "name": "stdout",
          "text": [
            "{1, 2, 3, 4, 5}\n"
          ]
        },
        {
          "output_type": "execute_result",
          "data": {
            "text/plain": [
              "set"
            ]
          },
          "metadata": {},
          "execution_count": 35
        }
      ]
    },
    {
      "cell_type": "code",
      "source": [
        "# convert a list to set\n",
        "list_5 = [1,2,3,4,5,5]\n",
        "print(list_5)\n",
        "set_1 = set(list_5)\n",
        "print(set_1)"
      ],
      "metadata": {
        "colab": {
          "base_uri": "https://localhost:8080/"
        },
        "id": "RKwj8NCnyCkQ",
        "outputId": "f7be218a-3c0e-4c50-e6d3-9b08d196bfeb"
      },
      "execution_count": null,
      "outputs": [
        {
          "output_type": "stream",
          "name": "stdout",
          "text": [
            "[1, 2, 3, 4, 5, 5]\n",
            "{1, 2, 3, 4, 5}\n"
          ]
        }
      ]
    },
    {
      "cell_type": "markdown",
      "source": [
        "Dictonary. It does not allow duplicate values."
      ],
      "metadata": {
        "id": "OI2WBYOhyc4p"
      }
    },
    {
      "cell_type": "markdown",
      "source": [
        "Key value pair"
      ],
      "metadata": {
        "id": "OYJpJSPqyiXT"
      }
    },
    {
      "cell_type": "code",
      "source": [
        "my_dictonary = {'name': 'john', 'age': 26}\n",
        "print(my_dictonary)\n",
        "type(my_dictonary)"
      ],
      "metadata": {
        "colab": {
          "base_uri": "https://localhost:8080/"
        },
        "id": "mhGVhDbHyf8S",
        "outputId": "a49e01a1-e772-400b-c2d5-f9ae334edb44"
      },
      "execution_count": null,
      "outputs": [
        {
          "output_type": "stream",
          "name": "stdout",
          "text": [
            "{'name': 'john', 'age': 26}\n"
          ]
        },
        {
          "output_type": "execute_result",
          "data": {
            "text/plain": [
              "dict"
            ]
          },
          "metadata": {},
          "execution_count": 38
        }
      ]
    },
    {
      "cell_type": "code",
      "source": [
        "print(my_dictonary[\"name\"])\n",
        "print(my_dictonary[\"age\"])"
      ],
      "metadata": {
        "colab": {
          "base_uri": "https://localhost:8080/"
        },
        "id": "k_prU5Cr04f9",
        "outputId": "6569c938-664b-4896-aca8-01fe94b17cae"
      },
      "execution_count": null,
      "outputs": [
        {
          "output_type": "stream",
          "name": "stdout",
          "text": [
            "john\n",
            "26\n"
          ]
        }
      ]
    },
    {
      "cell_type": "markdown",
      "source": [
        "# Operators in Python\n",
        "1. Arithmetic Operators\n",
        "2. Assignment Operators\n",
        "3. Comparision Operators\n",
        "4. Logical Operators\n",
        "5. Identity Operators\n",
        "6. Membership Operators"
      ],
      "metadata": {
        "id": "sjAc37aGaZfL"
      }
    },
    {
      "cell_type": "markdown",
      "source": [
        "Arthmetic Operators"
      ],
      "metadata": {
        "id": "3COajuI8avv8"
      }
    },
    {
      "cell_type": "code",
      "source": [
        "num_1 = 20\n",
        "num_2 = 10\n",
        "\n",
        "# addition\n",
        "sum = num_1 + num_2\n",
        "print(\"sum = \", sum)\n",
        "\n",
        "# subtraction\n",
        "diff = num_1 - num_2\n",
        "print(\"difference = \", diff)\n",
        "\n",
        "# multiplication\n",
        "product = num_1 * num_2\n",
        "print(\"product = \", product)\n",
        "\n",
        "# division\n",
        "division = num_1 / num_2\n",
        "print(\"division = \", division)\n",
        "\n",
        "# exponent\n",
        "exp = num_1 ** num_2\n",
        "print(\"exponent = \", exp)\n",
        "\n",
        "# modulus\n",
        "modulus = num_1 % num_2\n",
        "print(\"modulus = \", modulus)"
      ],
      "metadata": {
        "id": "G4YpRO8aas2l",
        "outputId": "9095525f-0c89-4159-bcd4-42544c95ed29",
        "colab": {
          "base_uri": "https://localhost:8080/"
        }
      },
      "execution_count": null,
      "outputs": [
        {
          "output_type": "stream",
          "name": "stdout",
          "text": [
            "sum =  30\n",
            "difference =  10\n",
            "product =  200\n",
            "division =  2.0\n",
            "exponent =  10240000000000\n",
            "modulus =  0\n"
          ]
        }
      ]
    },
    {
      "cell_type": "markdown",
      "source": [
        "Assignment Operators"
      ],
      "metadata": {
        "id": "N7xwyjQ8cMbl"
      }
    },
    {
      "cell_type": "code",
      "source": [
        "a = 5\n",
        "print(a)\n",
        "\n",
        "a += 5\n",
        "print(a)\n",
        "\n",
        "a -= 5\n",
        "print(a)\n",
        "\n",
        "a *= 5\n",
        "print(a)\n",
        "\n",
        "a /= 5\n",
        "print(a)\n",
        "\n",
        "a %= 5\n",
        "print(a)"
      ],
      "metadata": {
        "id": "mNLJHCnQcOiE",
        "outputId": "dd9db650-fab3-4a9f-8286-8859ed7494bc",
        "colab": {
          "base_uri": "https://localhost:8080/"
        }
      },
      "execution_count": null,
      "outputs": [
        {
          "output_type": "stream",
          "name": "stdout",
          "text": [
            "5\n",
            "10\n",
            "5\n",
            "25\n",
            "5.0\n",
            "0.0\n"
          ]
        }
      ]
    },
    {
      "cell_type": "markdown",
      "source": [
        "Comparision Operators"
      ],
      "metadata": {
        "id": "nEmDrPn9cohM"
      }
    },
    {
      "cell_type": "code",
      "source": [
        "a = 5\n",
        "b = 10\n",
        "\n",
        "print(a == b)\n",
        "print(a != b)\n",
        "print(a > b)\n",
        "print(a < b)\n",
        "print(a >= b)\n",
        "print(a <= b)"
      ],
      "metadata": {
        "id": "vUaMm0kAcrC4",
        "outputId": "ba39f716-09a3-444a-c4dd-94c39a360207",
        "colab": {
          "base_uri": "https://localhost:8080/"
        }
      },
      "execution_count": null,
      "outputs": [
        {
          "output_type": "stream",
          "name": "stdout",
          "text": [
            "False\n",
            "True\n",
            "False\n",
            "True\n",
            "False\n",
            "True\n"
          ]
        }
      ]
    },
    {
      "cell_type": "markdown",
      "source": [
        "Logical Operator"
      ],
      "metadata": {
        "id": "383B50wZdFIP"
      }
    },
    {
      "cell_type": "code",
      "source": [
        "a = True\n",
        "b = False\n",
        "\n",
        "print(a and b)\n",
        "print(a or b)\n",
        "print(not a)"
      ],
      "metadata": {
        "id": "3pWPH2zpcvN_",
        "outputId": "df70bf7c-8daf-42c0-f7fc-0562d3428921",
        "colab": {
          "base_uri": "https://localhost:8080/"
        }
      },
      "execution_count": null,
      "outputs": [
        {
          "output_type": "stream",
          "name": "stdout",
          "text": [
            "False\n",
            "True\n",
            "False\n"
          ]
        }
      ]
    },
    {
      "cell_type": "markdown",
      "source": [
        "Identity Operator"
      ],
      "metadata": {
        "id": "orosK21XdsUs"
      }
    },
    {
      "cell_type": "code",
      "source": [
        "x = 5\n",
        "y = 5\n",
        "\n",
        "print(x is y)\n",
        "print(x is not y)"
      ],
      "metadata": {
        "id": "ELrySU2_duf_",
        "outputId": "01b034f6-719d-4c94-fff7-54f2c721af3f",
        "colab": {
          "base_uri": "https://localhost:8080/"
        }
      },
      "execution_count": null,
      "outputs": [
        {
          "output_type": "stream",
          "name": "stdout",
          "text": [
            "True\n",
            "False\n"
          ]
        }
      ]
    },
    {
      "cell_type": "markdown",
      "source": [
        "Membership operators"
      ],
      "metadata": {
        "id": "gqB0JEA9d8wl"
      }
    },
    {
      "cell_type": "code",
      "source": [
        "a = 5\n",
        "b = 10\n",
        "\n",
        "c = [1,2,3,4,5]\n",
        "print(a in c)\n",
        "print(b in c)\n",
        "print(a not in c)\n",
        "print(b not in c)"
      ],
      "metadata": {
        "id": "vakZY9Sld7LO",
        "outputId": "b6288fed-331a-4eff-b5c1-4983f9576f33",
        "colab": {
          "base_uri": "https://localhost:8080/"
        }
      },
      "execution_count": null,
      "outputs": [
        {
          "output_type": "stream",
          "name": "stdout",
          "text": [
            "True\n",
            "False\n",
            "False\n",
            "True\n"
          ]
        }
      ]
    },
    {
      "cell_type": "markdown",
      "source": [
        "# Conditionals\n"
      ],
      "metadata": {
        "id": "q-f6TkwdiQI3"
      }
    },
    {
      "cell_type": "code",
      "source": [
        "a = 30\n",
        "b = 50\n",
        "\n",
        "if(a>b):\n",
        "  print(\" a is gretest number\")\n",
        "elif(a==b):\n",
        "  print(\"a is same as\")\n",
        "else:\n",
        "  print(\" b is the greatest number\")"
      ],
      "metadata": {
        "id": "R2g2jyHEjojp",
        "outputId": "c38a8fd9-6a90-4fae-f7ea-55d52e3b1d44",
        "colab": {
          "base_uri": "https://localhost:8080/"
        }
      },
      "execution_count": null,
      "outputs": [
        {
          "output_type": "stream",
          "name": "stdout",
          "text": [
            " b is the greatest number\n"
          ]
        }
      ]
    },
    {
      "cell_type": "markdown",
      "source": [
        "nested If statement"
      ],
      "metadata": {
        "id": "iDJNo_dtjzxF"
      }
    },
    {
      "cell_type": "code",
      "source": [
        "a = 20\n",
        "b = 40\n",
        "c = 50\n",
        "\n",
        "if(a>b):\n",
        "  if(a>c):\n",
        "      print(\"a is the greatest number\")\n",
        "  else:\n",
        "      print(\"c is greateset number\")\n",
        "else:\n",
        "    if(b>c):\n",
        "      print(\"b is the greatest number\")\n",
        "    else:\n",
        "      print(\"c is the greatest number\")"
      ],
      "metadata": {
        "id": "exGf-Y5rj14Q",
        "outputId": "20c590ac-a9c6-4d21-b07d-480b18a6416b",
        "colab": {
          "base_uri": "https://localhost:8080/"
        }
      },
      "execution_count": null,
      "outputs": [
        {
          "output_type": "stream",
          "name": "stdout",
          "text": [
            "c is the greatest number\n"
          ]
        }
      ]
    },
    {
      "cell_type": "markdown",
      "source": [
        "# Loops"
      ],
      "metadata": {
        "id": "vOBCGlxsmekx"
      }
    },
    {
      "cell_type": "markdown",
      "source": [
        "For Loop"
      ],
      "metadata": {
        "id": "4uguSdi9mnT0"
      }
    },
    {
      "cell_type": "code",
      "source": [
        "for i in range(5):\n",
        "  laptop_price = int(input(\"Enter the price of the laptop: \"))"
      ],
      "metadata": {
        "colab": {
          "base_uri": "https://localhost:8080/"
        },
        "id": "L960xAKimpJW",
        "outputId": "5643affe-e812-480d-bd87-37537a06e997"
      },
      "execution_count": 1,
      "outputs": [
        {
          "name": "stdout",
          "output_type": "stream",
          "text": [
            "Enter the price of the laptop: 20\n",
            "Enter the price of the laptop: 30\n",
            "Enter the price of the laptop: 40\n",
            "Enter the price of the laptop: 10\n",
            "Enter the price of the laptop: 90\n"
          ]
        }
      ]
    },
    {
      "cell_type": "code",
      "source": [
        "number = [50,100,150,200]\n",
        "for i in range(len(number)):\n",
        "  print(number[i])\n",
        "\n",
        "# or\n",
        "\n",
        "for i in number:\n",
        "  print(i)"
      ],
      "metadata": {
        "colab": {
          "base_uri": "https://localhost:8080/"
        },
        "id": "tS5bZJYoomgU",
        "outputId": "74f9de76-a701-4f5f-e520-746f17683e85"
      },
      "execution_count": 3,
      "outputs": [
        {
          "output_type": "stream",
          "name": "stdout",
          "text": [
            "50\n",
            "100\n",
            "150\n",
            "200\n",
            "50\n",
            "100\n",
            "150\n",
            "200\n"
          ]
        }
      ]
    },
    {
      "cell_type": "markdown",
      "source": [
        "While loop\n"
      ],
      "metadata": {
        "id": "A01y5qHkpX-a"
      }
    },
    {
      "cell_type": "code",
      "source": [
        "# while condition : statement\n",
        "i=0\n",
        "while i<10:\n",
        "    print(i)\n",
        "    i += 1;"
      ],
      "metadata": {
        "colab": {
          "base_uri": "https://localhost:8080/"
        },
        "id": "6-8SuakqpZ0Z",
        "outputId": "983a240b-2fb5-491b-e935-7536efd55a6d"
      },
      "execution_count": 4,
      "outputs": [
        {
          "output_type": "stream",
          "name": "stdout",
          "text": [
            "0\n",
            "1\n",
            "2\n",
            "3\n",
            "4\n",
            "5\n",
            "6\n",
            "7\n",
            "8\n",
            "9\n"
          ]
        }
      ]
    },
    {
      "cell_type": "markdown",
      "source": [
        "#Functions\n"
      ],
      "metadata": {
        "id": "VJtNjHatuWUp"
      }
    },
    {
      "cell_type": "markdown",
      "source": [
        "Functions is a block of code that can be reused in a pragram\n"
      ],
      "metadata": {
        "id": "blf-k-zCuZau"
      }
    },
    {
      "cell_type": "code",
      "source": [
        "number = int(input(\"Enter a number to find its factorial: \"))\n",
        "\n",
        "factorial = 1\n",
        "\n",
        "if number == 0:\n",
        "    print(\"The factorial of O is :\" , factorial)\n",
        "else:\n",
        "    for i in range(1, number+1):  #range(1, 6) -> 1,2,3,4,5\n",
        "      factorial *= i\n",
        "    print(\"The factorial of \", number, \" is\", factorial)"
      ],
      "metadata": {
        "colab": {
          "base_uri": "https://localhost:8080/"
        },
        "id": "860Fatz_ueRQ",
        "outputId": "138a1527-bfcc-4b83-93a6-616697567e1a"
      },
      "execution_count": 8,
      "outputs": [
        {
          "output_type": "stream",
          "name": "stdout",
          "text": [
            "Enter a number to find its factorial: 5\n",
            "The factorial of  5  is 120\n"
          ]
        }
      ]
    },
    {
      "cell_type": "markdown",
      "source": [
        "Function"
      ],
      "metadata": {
        "id": "5rsuehCRxB9O"
      }
    },
    {
      "cell_type": "code",
      "source": [
        "def factorial_value(num):\n",
        "  factorial = 1\n",
        "\n",
        "  if num == 0:\n",
        "      return factorial\n",
        "  else:\n",
        "      for i in range(1, num+1):  #range(1, 6) -> 1,2,3,4,5\n",
        "        factorial *= i\n",
        "      return factorial\n",
        "\n",
        "print(factorial_value(5))"
      ],
      "metadata": {
        "colab": {
          "base_uri": "https://localhost:8080/"
        },
        "id": "l3UY47_LxJ6A",
        "outputId": "e265b5c7-6bb9-4564-9e1a-0bd4620c7516"
      },
      "execution_count": 9,
      "outputs": [
        {
          "output_type": "stream",
          "name": "stdout",
          "text": [
            "120\n"
          ]
        }
      ]
    }
  ]
}