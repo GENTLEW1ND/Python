{
  "nbformat": 4,
  "nbformat_minor": 0,
  "metadata": {
    "colab": {
      "provenance": [],
      "authorship_tag": "ABX9TyOqRu+Sb71LAzV4e5T9gT/m",
      "include_colab_link": true
    },
    "kernelspec": {
      "name": "python3",
      "display_name": "Python 3"
    },
    "language_info": {
      "name": "python"
    }
  },
  "cells": [
    {
      "cell_type": "markdown",
      "metadata": {
        "id": "view-in-github",
        "colab_type": "text"
      },
      "source": [
        "<a href=\"https://colab.research.google.com/github/GENTLEW1ND/Python/blob/main/Untitled0.ipynb\" target=\"_parent\"><img src=\"https://colab.research.google.com/assets/colab-badge.svg\" alt=\"Open In Colab\"/></a>"
      ]
    },
    {
      "cell_type": "markdown",
      "source": [
        "Lasso Regression\n",
        "\n",
        "**Y = wX + b**\n",
        "\n",
        "Y -> Dependent Variable\n",
        "\n",
        "X -> Independent Variable\n",
        "\n",
        "w -> weight\n",
        "\n",
        "b -> bias"
      ],
      "metadata": {
        "id": "KimdIfvWGFta"
      }
    },
    {
      "cell_type": "markdown",
      "source": [
        "Gradient Descent:\n",
        "\n",
        "Gradient Descent is an optimization algorithm used for minimizing the loss function in various machine learning algorithms. It is used for updating the parameters of the learning model\n",
        "\n",
        "w = w - a * dw\n",
        "\n",
        "b = b - a * db\n",
        "\n"
      ],
      "metadata": {
        "id": "8gmgDV-wGYSg"
      }
    },
    {
      "cell_type": "markdown",
      "source": [
        "Learning Rate:\n",
        "\n",
        "Learning rate is a tuning parameter in an optimization algorithm that determines algorithm that determies the step at each iteration while moving toward a minimum of a loss function."
      ],
      "metadata": {
        "id": "w_AHXKhzGuAp"
      }
    },
    {
      "cell_type": "markdown",
      "source": [
        "Importing the dependencies"
      ],
      "metadata": {
        "id": "cJ-Q6yBDI3DW"
      }
    },
    {
      "cell_type": "code",
      "execution_count": 1,
      "metadata": {
        "id": "PeSvYjGiGBmV"
      },
      "outputs": [],
      "source": [
        "import numpy as np"
      ]
    },
    {
      "cell_type": "markdown",
      "source": [
        "Lasso Regression"
      ],
      "metadata": {
        "id": "fMORW43hI7Wg"
      }
    },
    {
      "cell_type": "code",
      "source": [
        "class Lasso_Regression():\n",
        "\n",
        "  def __init__(self,Learning_rate,no_of_iterations,lamda_parameter):\n",
        "\n",
        "    # initiating the hyperparameters\n",
        "    self.Learning_rete = Learning_rate\n",
        "    self.no_of_iterations = no_of_iterations\n",
        "    self.lamda_parameter = lamda_parameter\n",
        "\n",
        "  # Fitting the dataset to the Lasso Regression model\n",
        "  def fit(self, X, Y):\n",
        "\n",
        "    # m = number of data points or number of rows\n",
        "    # n = number of features or number of columns\n",
        "    self.m,self.n = X.shape\n",
        "\n",
        "  # Function for updating the weight and bias weight\n",
        "  def update_weight(self):\n",
        "\n",
        "  # Predicting the Target Variable\n",
        "  def predict(self, X):"
      ],
      "metadata": {
        "id": "0TL6gug8I6NH"
      },
      "execution_count": null,
      "outputs": []
    }
  ]
}