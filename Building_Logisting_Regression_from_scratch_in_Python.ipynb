{
  "nbformat": 4,
  "nbformat_minor": 0,
  "metadata": {
    "colab": {
      "provenance": [],
      "authorship_tag": "ABX9TyNAQi4qlWWcIzdvnGUpLieR",
      "include_colab_link": true
    },
    "kernelspec": {
      "name": "python3",
      "display_name": "Python 3"
    },
    "language_info": {
      "name": "python"
    }
  },
  "cells": [
    {
      "cell_type": "markdown",
      "metadata": {
        "id": "view-in-github",
        "colab_type": "text"
      },
      "source": [
        "<a href=\"https://colab.research.google.com/github/GENTLEW1ND/Python/blob/main/Building_Logisting_Regression_from_scratch_in_Python.ipynb\" target=\"_parent\"><img src=\"https://colab.research.google.com/assets/colab-badge.svg\" alt=\"Open In Colab\"/></a>"
      ]
    },
    {
      "cell_type": "markdown",
      "source": [
        "Logistic Regression:\n",
        "\n",
        " Y_hat = 1 / (1 + e^-Z)\n",
        "\n",
        " Z = w.X + b\n",
        "\n",
        " Y_hat -> predicted value\n",
        "\n",
        " X -> independent Variable\n",
        "\n",
        " w -> weight\n",
        "\n",
        " b -> bias\n",
        "\n",
        "Gradient Descent:\n",
        "\n",
        "Gradient Descent is an optimization algorigthm used for minimizing the loss function in various maching learning algorithms. It is used for updating the parameters of the learning model.\n",
        "\n",
        "w = w - a * dw\n",
        "\n",
        "b = b - a * db\n",
        "\n",
        "Learning Rate:\n",
        "\n",
        "Learning rate is a tuning parameter in an optimization algorithm that determines the step size at each iteration while moving toward a minimum of a loss function\n"
      ],
      "metadata": {
        "id": "eRcVQwmCIYfs"
      }
    },
    {
      "cell_type": "code",
      "execution_count": 1,
      "metadata": {
        "id": "9n6LFgdlIU0U"
      },
      "outputs": [],
      "source": [
        "# Importing the Dependencies\n",
        "import numpy as np"
      ]
    },
    {
      "cell_type": "markdown",
      "source": [
        "Logistic Regression"
      ],
      "metadata": {
        "id": "NH_k97NNL9zZ"
      }
    },
    {
      "cell_type": "code",
      "source": [
        "class Logistic_Regression():\n",
        "\n",
        "  # Declearing learning rate and number of iterations (Hyperparameters)\n",
        "  def __init__(self, learning_rate, no_of_iterations):\n",
        "\n",
        "    self.learning_rate = learning_rate\n",
        "    self.no_of_iterations = no_of_iterations\n",
        "\n",
        "  # fit Function to train the model with dataset\n",
        "  def fit(self, X, Y):\n",
        "\n",
        "    # number of data points in the dataset (number of rows) -> m\n",
        "    # number of input features in the dataset (number of columns) -> n\n",
        "    self.m, self.n = X.shape\n",
        "\n",
        "    # Initiating weight and bias value\n",
        "    self.w = np.zeros(self.n)\n",
        "    self.b = 0\n",
        "    self.X = X\n",
        "    self.Y = Y\n",
        "\n",
        "    # Implementing Gradient Desent for Optimization\n",
        "    for i in range(self.no_of_iterations):\n",
        "      self.update_weight()\n",
        "\n",
        "  def update_weight(self):\n",
        "\n",
        "    # Y_hat formula ( sigmoid Function )\n",
        "    Y_hat = 1 / (1 + np.exp( -( self.X.dot(self.w) + self.b )))\n",
        "\n",
        "    # derivatives\n",
        "    dw = (1/self.m)*np.dot(self.X.T, (Y_hat - self.Y))\n",
        "\n",
        "    db = (1/self.m)*np.sum(Y_hat - self.Y)\n",
        "\n",
        "    # Updating the weights and bias using the gradient desent\n",
        "    self.w = self.w - self.learning_rate * dw\n",
        "\n",
        "    self.b = self.b - self.learning_rate * db\n",
        "\n",
        "  # Sigmoid Equation and Decision Boundary\n",
        "  def predict(self,X):\n",
        "\n",
        "    Y_pred = 1 / (1 + np.exp( -( self.X.dot(self.w) + self.b )))\n",
        "    Y_pred = np.where(Y_pred > 0.5, 1,0)\n",
        "    return Y_pred\n"
      ],
      "metadata": {
        "id": "2jl8wY42L4rF"
      },
      "execution_count": 2,
      "outputs": []
    },
    {
      "cell_type": "code",
      "source": [],
      "metadata": {
        "id": "-JU6N81o7BIx"
      },
      "execution_count": null,
      "outputs": []
    }
  ]
}