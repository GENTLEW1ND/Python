{
  "nbformat": 4,
  "nbformat_minor": 0,
  "metadata": {
    "colab": {
      "provenance": [],
      "authorship_tag": "ABX9TyMjsIbUkTB1bnbGbSt8r21u",
      "include_colab_link": true
    },
    "kernelspec": {
      "name": "python3",
      "display_name": "Python 3"
    },
    "language_info": {
      "name": "python"
    }
  },
  "cells": [
    {
      "cell_type": "markdown",
      "metadata": {
        "id": "view-in-github",
        "colab_type": "text"
      },
      "source": [
        "<a href=\"https://colab.research.google.com/github/GENTLEW1ND/Python/blob/main/Featue_Extraction.ipynb\" target=\"_parent\"><img src=\"https://colab.research.google.com/assets/colab-badge.svg\" alt=\"Open In Colab\"/></a>"
      ]
    },
    {
      "cell_type": "markdown",
      "source": [
        "Feature Extraction\n",
        "\n",
        "  The mapping from textual data to real valued vectors is called feature extraction.\n",
        "\n",
        "  In other words converting the textual data to numerical data."
      ],
      "metadata": {
        "id": "u5Gk15I9BZt-"
      }
    },
    {
      "cell_type": "markdown",
      "source": [
        "Bag of Words(BOW): List of unique words in the text corpus(Collection of words)."
      ],
      "metadata": {
        "id": "94f4Xl7VCBfJ"
      }
    },
    {
      "cell_type": "markdown",
      "source": [
        "Term Frequency-Inverse Document Frequency(TF-IDF):\n",
        "  \n",
        "  To count the numbers of times each words appreas in a document."
      ],
      "metadata": {
        "id": "21Z5dTX0Cw7d"
      }
    },
    {
      "cell_type": "markdown",
      "source": [
        "Term Frequency(TF) = (Number of times term t apperas in a doucment)/(Number of terms in the document)\n",
        "\n",
        "\n",
        "Inverse Document Frequency(IDF) = Log(N/n), Where, N is the number of words in the doucment and n is the number of documents a term t has appeared in.\n",
        "\n",
        "Note: the IDF values of a rare word is high, whereas the IDF of a frequent word is low.\n",
        "\n",
        "\n",
        "TF-IDF value of a term = TF x IDF"
      ],
      "metadata": {
        "id": "h8pHqGvDD0uG"
      }
    },
    {
      "cell_type": "code",
      "execution_count": null,
      "metadata": {
        "id": "32wEuoevBVhO"
      },
      "outputs": [],
      "source": []
    }
  ]
}