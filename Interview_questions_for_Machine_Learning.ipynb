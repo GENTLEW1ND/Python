{
  "nbformat": 4,
  "nbformat_minor": 0,
  "metadata": {
    "colab": {
      "provenance": [],
      "authorship_tag": "ABX9TyOXwCpDkejlbPPCzGnlXRcm",
      "include_colab_link": true
    },
    "kernelspec": {
      "name": "python3",
      "display_name": "Python 3"
    },
    "language_info": {
      "name": "python"
    }
  },
  "cells": [
    {
      "cell_type": "markdown",
      "metadata": {
        "id": "view-in-github",
        "colab_type": "text"
      },
      "source": [
        "<a href=\"https://colab.research.google.com/github/GENTLEW1ND/Python/blob/main/Interview_questions_for_Machine_Learning.ipynb\" target=\"_parent\"><img src=\"https://colab.research.google.com/assets/colab-badge.svg\" alt=\"Open In Colab\"/></a>"
      ]
    },
    {
      "cell_type": "markdown",
      "source": [
        "Machine Learning Interview:"
      ],
      "metadata": {
        "id": "lmXucy9ZRCDo"
      }
    },
    {
      "cell_type": "markdown",
      "source": [
        "1. Theoretical Questions on Machine Learning\n",
        "\n",
        "2. Python Programming Knowledge for Machine Learning\n",
        "\n",
        "3. Real World Problems"
      ],
      "metadata": {
        "id": "iHqpO64URikN"
      }
    },
    {
      "cell_type": "markdown",
      "source": [
        "# 1. Theoretical Questions on Machine Learning."
      ],
      "metadata": {
        "id": "YnPJ4pSiR2ON"
      }
    },
    {
      "cell_type": "markdown",
      "source": [
        "Q1. Explain Artifical Intelligence (Ai) in simple works.\n",
        "\n",
        "=   Artificial Intelligence is a branch of Computer Science that is concerned with building smart and intelligent Machines.\n",
        "eg. Tesla Car, Google Assistant, etc"
      ],
      "metadata": {
        "id": "En3fVFLWR8-z"
      }
    },
    {
      "cell_type": "markdown",
      "source": [
        "Q2. What is your understanding on Machine Learning?\n",
        "\n",
        "= Machine Learning is a technique to implement Ai that can learn from the data by themselves without being explicitly programmed."
      ],
      "metadata": {
        "id": "L0cBguZgS5Sl"
      }
    },
    {
      "cell_type": "markdown",
      "source": [
        "Q3. How will you distinguish Artificial Intelligence, Machine Learning and Deep Learning?\n",
        "\n",
        "= Machine Learning is a subset of Artificial Intelligence\n",
        "\n",
        "Deep Learning is a subset of Machine Learning.\n"
      ],
      "metadata": {
        "id": "J-4i85YPTuPB"
      }
    },
    {
      "cell_type": "markdown",
      "source": [
        "Q4. What is Deep Learning?\n",
        "\n",
        "= Deep Learning is a subfield of Machine Learning that uses Artifical Neural Networks to learn from the data."
      ],
      "metadata": {
        "id": "zdWecL5gUBjq"
      }
    },
    {
      "cell_type": "markdown",
      "source": [
        "Q5. What are the limitations of Deep Learning?\n",
        "\n",
        "=\n",
        "\n",
        "1. Neural Networks need a lot of Data\n",
        "2. Needs high computational power\n",
        "3. Implementation is complex than ML models\n",
        "4. Training the Neural Networks requires a lot of time."
      ],
      "metadata": {
        "id": "Y_RxzSp3YrT7"
      }
    },
    {
      "cell_type": "markdown",
      "source": [
        "Q6. What is a Machine Leanrning Model?\n",
        "\n",
        "= A Machine Learning Model is a function that tries to find the relationship between the Features and the Target variables.\n",
        "\n",
        "It tries to find the pattern in the data, understand the data and trains on the data. Based on this learning, a Machine Learning Model makes Prediction and recoginze patterns.\n",
        "\n",
        "eg Logistic Regression, Support Vector Machine, K-Means Clustering, etc"
      ],
      "metadata": {
        "id": "q0Hp-dPwaNta"
      }
    },
    {
      "cell_type": "markdown",
      "source": [
        "Q7. What are the different types of Machine Learning?\n",
        "\n",
        "= 1. Superviesd Learning\n",
        "\n",
        "2. Unsuperviesd Learning\n",
        "\n",
        "3. Reinforcement Learning\n",
        "\n"
      ],
      "metadata": {
        "id": "XG-z5nltbAzw"
      }
    },
    {
      "cell_type": "markdown",
      "source": [
        "Supervised Learning:\n",
        "\n",
        "In Supervised Learning, the Machine Learning algorithm learns from Labelled Data.\n",
        "\n",
        "Unsupervised Learning:\n",
        "\n",
        "In Unsupervised Learning, the Machine Learning algoritm learns from Unlabelled Data.\n",
        "\n",
        "Reinforcement Learning:\n",
        "\n",
        "Reinforcement Learning is an area of Machine Learning concerned with how intelligent agents take actions in an environment to maximize its rewards."
      ],
      "metadata": {
        "id": "s1sf5zcDmMzW"
      }
    },
    {
      "cell_type": "markdown",
      "source": [
        "Q9. What are the Different types of Supervised Learning?\n",
        "\n",
        "= 1. Classification : Classification is about predicting a class or descrete values.\n",
        "\n",
        "eg. Male or Female, True or False\n",
        "\n",
        "2. Regression : Regression is about predicting a quantity or continuous values.\n",
        "\n",
        "eg. Salar, age, price."
      ],
      "metadata": {
        "id": "tK79AUfroRBe"
      }
    },
    {
      "cell_type": "markdown",
      "source": [
        "Q10. Give some application of Machine Learning.\n",
        "\n",
        "= 1. Healthcare\n",
        "\n",
        "2. Autonomos Car\n",
        "\n",
        "3. Computer Vision\n",
        "\n",
        "4. Natural Language Processing"
      ],
      "metadata": {
        "id": "CmGvXeTjozVM"
      }
    },
    {
      "cell_type": "markdown",
      "source": [
        "Q11. What are the different types of unsupervised learning?\n",
        "\n",
        "= In Unsupervised Learning, the Machine Learning model learns from Unlabelled Data.\n",
        "\n",
        "There are two types of Unspervised Learning:\n",
        "\n",
        "1. Clustering : Clustering is an Unsupervised task which involves grouping the similar data points.\n",
        "\n",
        "2. Association : Association is an Unsupervised task that is used to find important relationship between data points."
      ],
      "metadata": {
        "id": "d67mUxx0JZcg"
      }
    },
    {
      "cell_type": "markdown",
      "source": [
        "Q12. Explain Clustering and Association\n",
        "\n",
        "= Clustering : It is an unsupervised task which involves grouping the similar data points.\n",
        "\n",
        "Association : It is an unsupervised task that is used to find important relationship between data points."
      ],
      "metadata": {
        "id": "_5lDjVUuKVbg"
      }
    }
  ]
}